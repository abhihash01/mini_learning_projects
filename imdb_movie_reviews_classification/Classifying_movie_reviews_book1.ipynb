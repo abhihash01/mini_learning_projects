{
  "nbformat": 4,
  "nbformat_minor": 0,
  "metadata": {
    "colab": {
      "name": "Classifying_movie_reviews_book1.ipynb",
      "provenance": []
    },
    "kernelspec": {
      "name": "python3",
      "display_name": "Python 3"
    }
  },
  "cells": [
    {
      "cell_type": "code",
      "metadata": {
        "id": "9PXkmLcaEREW"
      },
      "source": [
        "from keras.datasets import imdb\n",
        "import numpy as np"
      ],
      "execution_count": 1,
      "outputs": []
    },
    {
      "cell_type": "code",
      "metadata": {
        "colab": {
          "base_uri": "https://localhost:8080/"
        },
        "id": "UBaLRkNVVI5s",
        "outputId": "47fbbf3d-d358-474c-f81f-77550761ab4b"
      },
      "source": [
        "data=imdb.load_data(num_words=10000)"
      ],
      "execution_count": 2,
      "outputs": [
        {
          "output_type": "stream",
          "text": [
            "Downloading data from https://storage.googleapis.com/tensorflow/tf-keras-datasets/imdb.npz\n",
            "17465344/17464789 [==============================] - 0s 0us/step\n"
          ],
          "name": "stdout"
        },
        {
          "output_type": "stream",
          "text": [
            "<string>:6: VisibleDeprecationWarning: Creating an ndarray from ragged nested sequences (which is a list-or-tuple of lists-or-tuples-or ndarrays with different lengths or shapes) is deprecated. If you meant to do this, you must specify 'dtype=object' when creating the ndarray\n",
            "/usr/local/lib/python3.7/dist-packages/tensorflow/python/keras/datasets/imdb.py:159: VisibleDeprecationWarning: Creating an ndarray from ragged nested sequences (which is a list-or-tuple of lists-or-tuples-or ndarrays with different lengths or shapes) is deprecated. If you meant to do this, you must specify 'dtype=object' when creating the ndarray\n",
            "  x_train, y_train = np.array(xs[:idx]), np.array(labels[:idx])\n",
            "/usr/local/lib/python3.7/dist-packages/tensorflow/python/keras/datasets/imdb.py:160: VisibleDeprecationWarning: Creating an ndarray from ragged nested sequences (which is a list-or-tuple of lists-or-tuples-or ndarrays with different lengths or shapes) is deprecated. If you meant to do this, you must specify 'dtype=object' when creating the ndarray\n",
            "  x_test, y_test = np.array(xs[idx:]), np.array(labels[idx:])\n"
          ],
          "name": "stderr"
        }
      ]
    },
    {
      "cell_type": "code",
      "metadata": {
        "id": "6ERvZCf0VgLN"
      },
      "source": [
        "(train_data,train_labels),(test_data,test_labels)=data"
      ],
      "execution_count": 3,
      "outputs": []
    },
    {
      "cell_type": "code",
      "metadata": {
        "id": "xH9apmtUWRPq"
      },
      "source": [
        "def vectorize(sequences,dimension=10000):\n",
        "  mat=np.zeros((len(sequences),dimension))\n",
        "  for i,sequence in enumerate(sequences):\n",
        "    #print(i,sequence)\n",
        "    mat[i,sequence]=1\n",
        "  return mat\n"
      ],
      "execution_count": 4,
      "outputs": []
    },
    {
      "cell_type": "code",
      "metadata": {
        "id": "K9xZrKhZWWmY"
      },
      "source": [
        "#test code\n",
        "#using categorical function, works only with lists but not for matrix. Can either run a loop with each row or use the vectorize funtion as it is\n",
        "\n",
        "from keras.utils import to_categorical\n",
        "one_hot=to_categorical(train_data[0])\n",
        "one_hot_test=vectorize(train_data[0])"
      ],
      "execution_count": null,
      "outputs": []
    },
    {
      "cell_type": "code",
      "metadata": {
        "id": "Ij2xCpTaYyqF"
      },
      "source": [
        "train_ohh=vectorize(train_data)\n",
        "test_ohh=vectorize(test_data)\n",
        "train_labels_ohh=np.asarray(train_labels).astype('float32')\n",
        "test_labels_ohh=np.asarray(test_labels).astype('float32')"
      ],
      "execution_count": 5,
      "outputs": []
    },
    {
      "cell_type": "code",
      "metadata": {
        "id": "alUvGNphfPD7"
      },
      "source": [
        "x_train=train_ohh[:10000]\n",
        "x_val=train_ohh[10000:]\n",
        "x_train_label=train_labels_ohh[:10000]\n",
        "x_val_label=train_labels_ohh[10000:]"
      ],
      "execution_count": 6,
      "outputs": []
    },
    {
      "cell_type": "code",
      "metadata": {
        "id": "gzZkfODrIM8c"
      },
      "source": [
        ""
      ],
      "execution_count": null,
      "outputs": []
    },
    {
      "cell_type": "code",
      "metadata": {
        "id": "WmJeCbaqghE2"
      },
      "source": [
        "from keras.models import Sequential\n",
        "model=Sequential()"
      ],
      "execution_count": 7,
      "outputs": []
    },
    {
      "cell_type": "code",
      "metadata": {
        "id": "fmRmZYqogtMJ"
      },
      "source": [
        "from keras import layers"
      ],
      "execution_count": 8,
      "outputs": []
    },
    {
      "cell_type": "code",
      "metadata": {
        "id": "dFd6F3Xcg32r"
      },
      "source": [
        "model.add(layers.Dense(16,activation='relu',input_shape=(10000,)))\n",
        "model.add(layers.Dense(16,activation='relu'))\n",
        "model.add(layers.Dense(1,activation='sigmoid'))"
      ],
      "execution_count": 9,
      "outputs": []
    },
    {
      "cell_type": "code",
      "metadata": {
        "id": "seUvg0QuhdUm"
      },
      "source": [
        "from keras import optimizers"
      ],
      "execution_count": 10,
      "outputs": []
    },
    {
      "cell_type": "code",
      "metadata": {
        "id": "NhwZ_sLdr0Dq"
      },
      "source": [
        "model.compile(optimizer=optimizers.RMSprop(lr=0.001),loss='binary_crossentropy',metrics=['accuracy'])"
      ],
      "execution_count": 11,
      "outputs": []
    },
    {
      "cell_type": "code",
      "metadata": {
        "colab": {
          "base_uri": "https://localhost:8080/"
        },
        "id": "NOKO6eRnuOxd",
        "outputId": "538fdeec-a291-4581-f229-cfd3660c073b"
      },
      "source": [
        "history=model.fit(x_val,x_val_label,batch_size=512,epochs=20,validation_data=(x_train,x_train_label))"
      ],
      "execution_count": 12,
      "outputs": [
        {
          "output_type": "stream",
          "text": [
            "Epoch 1/20\n",
            "30/30 [==============================] - 2s 56ms/step - loss: 0.5892 - accuracy: 0.7054 - val_loss: 0.3884 - val_accuracy: 0.8681\n",
            "Epoch 2/20\n",
            "30/30 [==============================] - 1s 34ms/step - loss: 0.3241 - accuracy: 0.9015 - val_loss: 0.3126 - val_accuracy: 0.8783\n",
            "Epoch 3/20\n",
            "30/30 [==============================] - 1s 34ms/step - loss: 0.2331 - accuracy: 0.9224 - val_loss: 0.3105 - val_accuracy: 0.8730\n",
            "Epoch 4/20\n",
            "30/30 [==============================] - 1s 34ms/step - loss: 0.1801 - accuracy: 0.9412 - val_loss: 0.3148 - val_accuracy: 0.8732\n",
            "Epoch 5/20\n",
            "30/30 [==============================] - 1s 34ms/step - loss: 0.1411 - accuracy: 0.9560 - val_loss: 0.3261 - val_accuracy: 0.8726\n",
            "Epoch 6/20\n",
            "30/30 [==============================] - 1s 34ms/step - loss: 0.1157 - accuracy: 0.9652 - val_loss: 0.2912 - val_accuracy: 0.8862\n",
            "Epoch 7/20\n",
            "30/30 [==============================] - 1s 34ms/step - loss: 0.0920 - accuracy: 0.9747 - val_loss: 0.3513 - val_accuracy: 0.8716\n",
            "Epoch 8/20\n",
            "30/30 [==============================] - 1s 33ms/step - loss: 0.0793 - accuracy: 0.9799 - val_loss: 0.3662 - val_accuracy: 0.8738\n",
            "Epoch 9/20\n",
            "30/30 [==============================] - 1s 33ms/step - loss: 0.0626 - accuracy: 0.9840 - val_loss: 0.3536 - val_accuracy: 0.8767\n",
            "Epoch 10/20\n",
            "30/30 [==============================] - 1s 33ms/step - loss: 0.0490 - accuracy: 0.9893 - val_loss: 0.3730 - val_accuracy: 0.8777\n",
            "Epoch 11/20\n",
            "30/30 [==============================] - 1s 33ms/step - loss: 0.0349 - accuracy: 0.9943 - val_loss: 0.3961 - val_accuracy: 0.8778\n",
            "Epoch 12/20\n",
            "30/30 [==============================] - 1s 33ms/step - loss: 0.0278 - accuracy: 0.9965 - val_loss: 0.4259 - val_accuracy: 0.8754\n",
            "Epoch 13/20\n",
            "30/30 [==============================] - 1s 34ms/step - loss: 0.0216 - accuracy: 0.9969 - val_loss: 0.4707 - val_accuracy: 0.8689\n",
            "Epoch 14/20\n",
            "30/30 [==============================] - 1s 34ms/step - loss: 0.0187 - accuracy: 0.9976 - val_loss: 0.5120 - val_accuracy: 0.8663\n",
            "Epoch 15/20\n",
            "30/30 [==============================] - 1s 33ms/step - loss: 0.0138 - accuracy: 0.9981 - val_loss: 0.5278 - val_accuracy: 0.8691\n",
            "Epoch 16/20\n",
            "30/30 [==============================] - 1s 34ms/step - loss: 0.0089 - accuracy: 0.9994 - val_loss: 0.5945 - val_accuracy: 0.8668\n",
            "Epoch 17/20\n",
            "30/30 [==============================] - 1s 34ms/step - loss: 0.0068 - accuracy: 0.9997 - val_loss: 0.6409 - val_accuracy: 0.8589\n",
            "Epoch 18/20\n",
            "30/30 [==============================] - 1s 34ms/step - loss: 0.0055 - accuracy: 0.9997 - val_loss: 0.6202 - val_accuracy: 0.8673\n",
            "Epoch 19/20\n",
            "30/30 [==============================] - 1s 34ms/step - loss: 0.0040 - accuracy: 0.9995 - val_loss: 0.6494 - val_accuracy: 0.8667\n",
            "Epoch 20/20\n",
            "30/30 [==============================] - 1s 33ms/step - loss: 0.0025 - accuracy: 0.9999 - val_loss: 0.6813 - val_accuracy: 0.8646\n"
          ],
          "name": "stdout"
        }
      ]
    },
    {
      "cell_type": "code",
      "metadata": {
        "id": "d6lCGa9gtCCU"
      },
      "source": [
        "history_dict=history.history"
      ],
      "execution_count": 13,
      "outputs": []
    },
    {
      "cell_type": "code",
      "metadata": {
        "colab": {
          "base_uri": "https://localhost:8080/"
        },
        "id": "uPSFkotlIujE",
        "outputId": "aeda7750-5b0f-45b7-c284-2475ad80883f"
      },
      "source": [
        "history_dict.keys()"
      ],
      "execution_count": 14,
      "outputs": [
        {
          "output_type": "execute_result",
          "data": {
            "text/plain": [
              "dict_keys(['loss', 'accuracy', 'val_loss', 'val_accuracy'])"
            ]
          },
          "metadata": {
            "tags": []
          },
          "execution_count": 14
        }
      ]
    },
    {
      "cell_type": "code",
      "metadata": {
        "id": "C_ZzUUOSvBML"
      },
      "source": [
        "from matplotlib import pyplot as plt"
      ],
      "execution_count": 15,
      "outputs": []
    },
    {
      "cell_type": "code",
      "metadata": {
        "colab": {
          "base_uri": "https://localhost:8080/",
          "height": 265
        },
        "id": "oBLjexTLvdA3",
        "outputId": "a5df84a3-039b-4c76-e589-f60a09bd745d"
      },
      "source": [
        "epchs=range(0,20)\n",
        "plt.plot(epchs,history_dict['loss'],'bo')\n",
        "plt.plot(epchs,history_dict['val_loss'],'b')\n",
        "plt.show()"
      ],
      "execution_count": 16,
      "outputs": [
        {
          "output_type": "display_data",
          "data": {
            "image/png": "[encoded data removed]",
            "text/plain": [
              "<Figure size 432x288 with 1 Axes>"
            ]
          },
          "metadata": {
            "tags": [],
            "needs_background": "light"
          }
        }
      ]
    },
    {
      "cell_type": "code",
      "metadata": {
        "colab": {
          "base_uri": "https://localhost:8080/"
        },
        "id": "r14LQ4PeXJXK",
        "outputId": "258d03e6-32af-4006-e9b0-26532f52a0c5"
      },
      "source": [
        "history_dict.keys()"
      ],
      "execution_count": 17,
      "outputs": [
        {
          "output_type": "execute_result",
          "data": {
            "text/plain": [
              "dict_keys(['loss', 'accuracy', 'val_loss', 'val_accuracy'])"
            ]
          },
          "metadata": {
            "tags": []
          },
          "execution_count": 17
        }
      ]
    },
    {
      "cell_type": "code",
      "metadata": {
        "colab": {
          "base_uri": "https://localhost:8080/",
          "height": 295
        },
        "id": "z4lOprijW8o2",
        "outputId": "9cbdaa14-e8c8-4bd0-fbae-1ea5478167e8"
      },
      "source": [
        "plt.clf()\n",
        "acc_values = history_dict['accuracy']\n",
        "val_acc_values = history_dict['val_accuracy']\n",
        "plt.plot(epchs,history_dict['accuracy'], 'bo', label='Training acc')\n",
        "plt.plot(epchs, history_dict['val_accuracy'], 'b', label='Validation acc')\n",
        "plt.title('Training and validation accuracy')\n",
        "plt.xlabel('Epochs')\n",
        "plt.ylabel('Loss')\n",
        "plt.legend()\n",
        "plt.show()"
      ],
      "execution_count": 18,
      "outputs": [
        {
          "output_type": "display_data",
          "data": {
            "image/png": "[encoded data removed]",
            "text/plain": [
              "<Figure size 432x288 with 1 Axes>"
            ]
          },
          "metadata": {
            "tags": [],
            "needs_background": "light"
          }
        }
      ]
    },
    {
      "cell_type": "code",
      "metadata": {
        "colab": {
          "base_uri": "https://localhost:8080/"
        },
        "id": "fYG7_ZuJJK1n",
        "outputId": "b055bb99-36b2-4141-a4a0-0976cf3f5c61"
      },
      "source": [
        "test_ohh"
      ],
      "execution_count": 19,
      "outputs": [
        {
          "output_type": "execute_result",
          "data": {
            "text/plain": [
              "array([[0., 1., 1., ..., 0., 0., 0.],\n",
              "       [0., 1., 1., ..., 0., 0., 0.],\n",
              "       [0., 1., 1., ..., 0., 0., 0.],\n",
              "       ...,\n",
              "       [0., 1., 1., ..., 0., 0., 0.],\n",
              "       [0., 1., 1., ..., 0., 0., 0.],\n",
              "       [0., 1., 1., ..., 0., 0., 0.]])"
            ]
          },
          "metadata": {
            "tags": []
          },
          "execution_count": 19
        }
      ]
    },
    {
      "cell_type": "code",
      "metadata": {
        "id": "5iHYWG5IYDH4"
      },
      "source": [
        "pred1=model.predict(test_ohh)"
      ],
      "execution_count": 20,
      "outputs": []
    },
    {
      "cell_type": "code",
      "metadata": {
        "colab": {
          "base_uri": "https://localhost:8080/"
        },
        "id": "FruoRwptXAOV",
        "outputId": "448cf6e1-179b-4a4e-eb18-149abec548c8"
      },
      "source": [
        "test_labels_ohh"
      ],
      "execution_count": 21,
      "outputs": [
        {
          "output_type": "execute_result",
          "data": {
            "text/plain": [
              "array([0., 1., 1., ..., 0., 0., 0.], dtype=float32)"
            ]
          },
          "metadata": {
            "tags": []
          },
          "execution_count": 21
        }
      ]
    },
    {
      "cell_type": "code",
      "metadata": {
        "id": "Z5nae7pNXQNt"
      },
      "source": [
        "pred_classified=[]"
      ],
      "execution_count": 25,
      "outputs": []
    },
    {
      "cell_type": "code",
      "metadata": {
        "id": "h28WRByHXQAy"
      },
      "source": [
        "for i in pred1:\n",
        "  if(i>0.5):\n",
        "    pred_classified.append(1)\n",
        "  else:\n",
        "    pred_classified.append(0)"
      ],
      "execution_count": 26,
      "outputs": []
    },
    {
      "cell_type": "code",
      "metadata": {
        "id": "sSwlQ1AYXP2u"
      },
      "source": [
        "pred_final=np.asarray(pred_classified)"
      ],
      "execution_count": 27,
      "outputs": []
    },
    {
      "cell_type": "code",
      "metadata": {
        "id": "bOpS-AbeXPpL"
      },
      "source": [
        "from sklearn.metrics import classification_report"
      ],
      "execution_count": 28,
      "outputs": []
    },
    {
      "cell_type": "code",
      "metadata": {
        "colab": {
          "base_uri": "https://localhost:8080/",
          "height": 70
        },
        "id": "6hVQM0kIYS1K",
        "outputId": "c9f22795-0403-4042-fa0e-1f8bf385866e"
      },
      "source": [
        "classification_report(test_labels_ohh,pred_final)"
      ],
      "execution_count": 29,
      "outputs": [
        {
          "output_type": "execute_result",
          "data": {
            "application/vnd.google.colaboratory.intrinsic+json": {
              "type": "string"
            },
            "text/plain": [
              "'              precision    recall  f1-score   support\\n\\n         0.0       0.84      0.87      0.85     12500\\n         1.0       0.86      0.83      0.85     12500\\n\\n    accuracy                           0.85     25000\\n   macro avg       0.85      0.85      0.85     25000\\nweighted avg       0.85      0.85      0.85     25000\\n'"
            ]
          },
          "metadata": {
            "tags": []
          },
          "execution_count": 29
        }
      ]
    },
    {
      "cell_type": "markdown",
      "metadata": {
        "id": "Vg0YdndCJ38n"
      },
      "source": [
        "the next approach was to use the internal validaiton split tool. Although the training happened right and the resultant graph was accurate, later realised, cannot compare previous data since it uses the first 10 k values for validation and this would use the last fraction for validation"
      ]
    },
    {
      "cell_type": "code",
      "metadata": {
        "id": "LcmfimdxQdvn"
      },
      "source": [
        "#model trying to the validation split inherently \n",
        "model2=Sequential()\n",
        "model2.add(layers.Dense(16,activation='relu',input_shape=(10000,)))\n",
        "model2.add(layers.Dense(16,activation='relu'))\n",
        "model2.add(layers.Dense(1,activation='sigmoid'))\n",
        "\n",
        "model2.compile(optimizer=optimizers.RMSprop(lr=0.001),loss='binary_crossentropy',metrics=['accuracy'])\n",
        "\n"
      ],
      "execution_count": null,
      "outputs": []
    },
    {
      "cell_type": "code",
      "metadata": {
        "colab": {
          "base_uri": "https://localhost:8080/"
        },
        "id": "zeo21spsuIS3",
        "outputId": "d7b9217a-bc0f-4c2a-e695-970fd70d55ac"
      },
      "source": [
        "history_2=model2.fit(train_ohh, train_labels_ohh,batch_size=512,epochs=20,validation_split=0.4)"
      ],
      "execution_count": null,
      "outputs": [
        {
          "output_type": "stream",
          "text": [
            "Epoch 1/20\n",
            "30/30 [==============================] - 2s 38ms/step - loss: 0.5964 - accuracy: 0.7239 - val_loss: 0.4058 - val_accuracy: 0.8529\n",
            "Epoch 2/20\n",
            "30/30 [==============================] - 1s 29ms/step - loss: 0.3405 - accuracy: 0.8953 - val_loss: 0.3330 - val_accuracy: 0.8703\n",
            "Epoch 3/20\n",
            "30/30 [==============================] - 1s 29ms/step - loss: 0.2419 - accuracy: 0.9211 - val_loss: 0.2789 - val_accuracy: 0.8918\n",
            "Epoch 4/20\n",
            "30/30 [==============================] - 1s 29ms/step - loss: 0.1856 - accuracy: 0.9413 - val_loss: 0.2815 - val_accuracy: 0.8890\n",
            "Epoch 5/20\n",
            "30/30 [==============================] - 1s 30ms/step - loss: 0.1482 - accuracy: 0.9544 - val_loss: 0.2816 - val_accuracy: 0.8866\n",
            "Epoch 6/20\n",
            "30/30 [==============================] - 1s 30ms/step - loss: 0.1188 - accuracy: 0.9649 - val_loss: 0.2995 - val_accuracy: 0.8849\n",
            "Epoch 7/20\n",
            "30/30 [==============================] - 1s 29ms/step - loss: 0.1052 - accuracy: 0.9681 - val_loss: 0.3077 - val_accuracy: 0.8852\n",
            "Epoch 8/20\n",
            "30/30 [==============================] - 1s 29ms/step - loss: 0.0805 - accuracy: 0.9785 - val_loss: 0.3270 - val_accuracy: 0.8828\n",
            "Epoch 9/20\n",
            "30/30 [==============================] - 1s 30ms/step - loss: 0.0692 - accuracy: 0.9832 - val_loss: 0.3521 - val_accuracy: 0.8788\n",
            "Epoch 10/20\n",
            "30/30 [==============================] - 1s 29ms/step - loss: 0.0577 - accuracy: 0.9854 - val_loss: 0.3715 - val_accuracy: 0.8792\n",
            "Epoch 11/20\n",
            "30/30 [==============================] - 1s 29ms/step - loss: 0.0454 - accuracy: 0.9906 - val_loss: 0.4016 - val_accuracy: 0.8763\n",
            "Epoch 12/20\n",
            "30/30 [==============================] - 1s 29ms/step - loss: 0.0368 - accuracy: 0.9922 - val_loss: 0.4354 - val_accuracy: 0.8741\n",
            "Epoch 13/20\n",
            "30/30 [==============================] - 1s 29ms/step - loss: 0.0291 - accuracy: 0.9948 - val_loss: 0.4584 - val_accuracy: 0.8745\n",
            "Epoch 14/20\n",
            "30/30 [==============================] - 1s 29ms/step - loss: 0.0236 - accuracy: 0.9957 - val_loss: 0.5356 - val_accuracy: 0.8641\n",
            "Epoch 15/20\n",
            "30/30 [==============================] - 1s 30ms/step - loss: 0.0196 - accuracy: 0.9975 - val_loss: 0.5246 - val_accuracy: 0.8707\n",
            "Epoch 16/20\n",
            "30/30 [==============================] - 1s 30ms/step - loss: 0.0134 - accuracy: 0.9983 - val_loss: 0.5628 - val_accuracy: 0.8701\n",
            "Epoch 17/20\n",
            "30/30 [==============================] - 1s 30ms/step - loss: 0.0105 - accuracy: 0.9988 - val_loss: 0.6439 - val_accuracy: 0.8621\n",
            "Epoch 18/20\n",
            "30/30 [==============================] - 1s 29ms/step - loss: 0.0091 - accuracy: 0.9990 - val_loss: 0.6422 - val_accuracy: 0.8655\n",
            "Epoch 19/20\n",
            "30/30 [==============================] - 1s 29ms/step - loss: 0.0083 - accuracy: 0.9991 - val_loss: 0.6710 - val_accuracy: 0.8671\n",
            "Epoch 20/20\n",
            "30/30 [==============================] - 1s 30ms/step - loss: 0.0046 - accuracy: 0.9997 - val_loss: 0.7507 - val_accuracy: 0.8613\n"
          ],
          "name": "stdout"
        }
      ]
    },
    {
      "cell_type": "code",
      "metadata": {
        "id": "ucAAQgfHut2J"
      },
      "source": [
        "history2_dict=history_2.history"
      ],
      "execution_count": null,
      "outputs": []
    },
    {
      "cell_type": "code",
      "metadata": {
        "colab": {
          "base_uri": "https://localhost:8080/",
          "height": 265
        },
        "id": "_0fIi9e2uz-h",
        "outputId": "c0b58b31-80ed-478c-d249-fcbea7299c79"
      },
      "source": [
        "epchs=range(0,20)\n",
        "plt.plot(epchs,history2_dict['loss'],'bo')\n",
        "plt.plot(epchs,history2_dict['val_loss'],'b')\n",
        "plt.show()"
      ],
      "execution_count": null,
      "outputs": [
        {
          "output_type": "display_data",
          "data": {
            "image/png": "[encoded data removed]",
            "text/plain": [
              "<Figure size 432x288 with 1 Axes>"
            ]
          },
          "metadata": {
            "tags": [],
            "needs_background": "light"
          }
        }
      ]
    },
    {
      "cell_type": "code",
      "metadata": {
        "id": "0o5wb9Zvz9fX",
        "colab": {
          "base_uri": "https://localhost:8080/"
        },
        "outputId": "4bbc134a-d2f9-435a-e1a0-c5e285ce8fd0"
      },
      "source": [
        "model2.predict(test_ohh)"
      ],
      "execution_count": null,
      "outputs": [
        {
          "output_type": "execute_result",
          "data": {
            "text/plain": [
              "array([[5.04787862e-02],\n",
              "       [1.00000000e+00],\n",
              "       [8.13961029e-04],\n",
              "       ...,\n",
              "       [8.48671913e-01],\n",
              "       [8.39710236e-04],\n",
              "       [1.05457395e-01]], dtype=float32)"
            ]
          },
          "metadata": {
            "tags": []
          },
          "execution_count": 25
        }
      ]
    },
    {
      "cell_type": "code",
      "metadata": {
        "colab": {
          "base_uri": "https://localhost:8080/"
        },
        "id": "XFZZ_KAOedKw",
        "outputId": "228d6a06-3f91-4ff4-d720-b6d51c6cb266"
      },
      "source": [
        "test_labels_ohh"
      ],
      "execution_count": null,
      "outputs": [
        {
          "output_type": "execute_result",
          "data": {
            "text/plain": [
              "array([0., 1., 1., ..., 0., 0., 0.], dtype=float32)"
            ]
          },
          "metadata": {
            "tags": []
          },
          "execution_count": 26
        }
      ]
    },
    {
      "cell_type": "code",
      "metadata": {
        "id": "EKSJM_YFeniq"
      },
      "source": [
        ""
      ],
      "execution_count": null,
      "outputs": []
    }
  ]
}