{
  "nbformat": 4,
  "nbformat_minor": 0,
  "metadata": {
    "colab": {
      "name": "imdb_with_word_embedding.ipynb",
      "provenance": []
    },
    "kernelspec": {
      "name": "python3",
      "display_name": "Python 3"
    },
    "language_info": {
      "name": "python"
    }
  },
  "cells": [
    {
      "cell_type": "code",
      "metadata": {
        "id": "n-rG5JhUDhXQ"
      },
      "source": [
        "from keras.layers import Embedding"
      ],
      "execution_count": 21,
      "outputs": []
    },
    {
      "cell_type": "code",
      "metadata": {
        "id": "9BBjDjLnEbZs"
      },
      "source": [
        "from keras import preprocessing"
      ],
      "execution_count": 22,
      "outputs": []
    },
    {
      "cell_type": "code",
      "metadata": {
        "id": "P1asrB-6EeWp"
      },
      "source": [
        "from keras.datasets import imdb"
      ],
      "execution_count": 23,
      "outputs": []
    },
    {
      "cell_type": "code",
      "metadata": {
        "colab": {
          "base_uri": "https://localhost:8080/"
        },
        "id": "4d92ERK6Ejbg",
        "outputId": "d3d96ec9-ca07-4218-ea02-929c071a88b4"
      },
      "source": [
        "(train_data,train_labels),(test_data,test_labes)=imdb.load_data(num_words=10000)"
      ],
      "execution_count": 24,
      "outputs": [
        {
          "output_type": "stream",
          "text": [
            "<string>:6: VisibleDeprecationWarning: Creating an ndarray from ragged nested sequences (which is a list-or-tuple of lists-or-tuples-or ndarrays with different lengths or shapes) is deprecated. If you meant to do this, you must specify 'dtype=object' when creating the ndarray\n",
            "/usr/local/lib/python3.7/dist-packages/tensorflow/python/keras/datasets/imdb.py:159: VisibleDeprecationWarning: Creating an ndarray from ragged nested sequences (which is a list-or-tuple of lists-or-tuples-or ndarrays with different lengths or shapes) is deprecated. If you meant to do this, you must specify 'dtype=object' when creating the ndarray\n",
            "  x_train, y_train = np.array(xs[:idx]), np.array(labels[:idx])\n",
            "/usr/local/lib/python3.7/dist-packages/tensorflow/python/keras/datasets/imdb.py:160: VisibleDeprecationWarning: Creating an ndarray from ragged nested sequences (which is a list-or-tuple of lists-or-tuples-or ndarrays with different lengths or shapes) is deprecated. If you meant to do this, you must specify 'dtype=object' when creating the ndarray\n",
            "  x_test, y_test = np.array(xs[idx:]), np.array(labels[idx:])\n"
          ],
          "name": "stderr"
        }
      ]
    },
    {
      "cell_type": "code",
      "metadata": {
        "id": "SbLrr1FuEwCv"
      },
      "source": [
        "train_data=preprocessing.sequence.pad_sequences(train_data,maxlen=20)\n",
        "test_data=preprocessing.sequence.pad_sequences(test_data,maxlen=20)"
      ],
      "execution_count": 25,
      "outputs": []
    },
    {
      "cell_type": "code",
      "metadata": {
        "id": "37dRRwcyFE8t"
      },
      "source": [
        "from keras.models import Sequential\n",
        "from keras import layers"
      ],
      "execution_count": 26,
      "outputs": []
    },
    {
      "cell_type": "code",
      "metadata": {
        "id": "4VCXemo3FKWF"
      },
      "source": [
        "model=Sequential()"
      ],
      "execution_count": 27,
      "outputs": []
    },
    {
      "cell_type": "code",
      "metadata": {
        "id": "h_yoGmi6FNVF"
      },
      "source": [
        "model.add(Embedding(10000,8,input_length=20))\n",
        "model.add(layers.Flatten())\n",
        "model.add(layers.Dense(1,activation='sigmoid'))\n"
      ],
      "execution_count": 28,
      "outputs": []
    },
    {
      "cell_type": "code",
      "metadata": {
        "id": "u1Cm5eKUFyFi"
      },
      "source": [
        "from keras import optimizers"
      ],
      "execution_count": 29,
      "outputs": []
    },
    {
      "cell_type": "code",
      "metadata": {
        "id": "VJusNFyLF0_b"
      },
      "source": [
        "model.compile(optimizers.RMSprop(lr=1e-4),loss='binary_crossentropy',metrics=['accuracy'])"
      ],
      "execution_count": 30,
      "outputs": []
    },
    {
      "cell_type": "code",
      "metadata": {
        "colab": {
          "base_uri": "https://localhost:8080/"
        },
        "id": "IINT9K8fGKZS",
        "outputId": "21da5cb7-06ce-489e-9efe-6fd065f96f03"
      },
      "source": [
        "model.summary()"
      ],
      "execution_count": 31,
      "outputs": [
        {
          "output_type": "stream",
          "text": [
            "Model: \"sequential_1\"\n",
            "_________________________________________________________________\n",
            "Layer (type)                 Output Shape              Param #   \n",
            "=================================================================\n",
            "embedding_2 (Embedding)      (None, 20, 8)             80000     \n",
            "_________________________________________________________________\n",
            "flatten_2 (Flatten)          (None, 160)               0         \n",
            "_________________________________________________________________\n",
            "dense_2 (Dense)              (None, 1)                 161       \n",
            "=================================================================\n",
            "Total params: 80,161\n",
            "Trainable params: 80,161\n",
            "Non-trainable params: 0\n",
            "_________________________________________________________________\n"
          ],
          "name": "stdout"
        }
      ]
    },
    {
      "cell_type": "code",
      "metadata": {
        "colab": {
          "base_uri": "https://localhost:8080/"
        },
        "id": "fh6Z6-EgGUIc",
        "outputId": "5b28d408-a998-4f62-d40b-a583257797ca"
      },
      "source": [
        "history=model.fit(train_data,train_labels,epochs=10,batch_size=32,validation_split=0.3)"
      ],
      "execution_count": 32,
      "outputs": [
        {
          "output_type": "stream",
          "text": [
            "Epoch 1/10\n",
            "547/547 [==============================] - 2s 2ms/step - loss: 0.6929 - accuracy: 0.5100 - val_loss: 0.6922 - val_accuracy: 0.5213\n",
            "Epoch 2/10\n",
            "547/547 [==============================] - 1s 2ms/step - loss: 0.6911 - accuracy: 0.5400 - val_loss: 0.6913 - val_accuracy: 0.5389\n",
            "Epoch 3/10\n",
            "547/547 [==============================] - 1s 2ms/step - loss: 0.6889 - accuracy: 0.5768 - val_loss: 0.6900 - val_accuracy: 0.5487\n",
            "Epoch 4/10\n",
            "547/547 [==============================] - 1s 2ms/step - loss: 0.6862 - accuracy: 0.6060 - val_loss: 0.6881 - val_accuracy: 0.5676\n",
            "Epoch 5/10\n",
            "547/547 [==============================] - 1s 2ms/step - loss: 0.6830 - accuracy: 0.6365 - val_loss: 0.6854 - val_accuracy: 0.5865\n",
            "Epoch 6/10\n",
            "547/547 [==============================] - 1s 2ms/step - loss: 0.6784 - accuracy: 0.6659 - val_loss: 0.6815 - val_accuracy: 0.6107\n",
            "Epoch 7/10\n",
            "547/547 [==============================] - 1s 2ms/step - loss: 0.6726 - accuracy: 0.6958 - val_loss: 0.6764 - val_accuracy: 0.6289\n",
            "Epoch 8/10\n",
            "547/547 [==============================] - 1s 2ms/step - loss: 0.6652 - accuracy: 0.7088 - val_loss: 0.6699 - val_accuracy: 0.6436\n",
            "Epoch 9/10\n",
            "547/547 [==============================] - 1s 2ms/step - loss: 0.6558 - accuracy: 0.7312 - val_loss: 0.6620 - val_accuracy: 0.6577\n",
            "Epoch 10/10\n",
            "547/547 [==============================] - 1s 2ms/step - loss: 0.6460 - accuracy: 0.7431 - val_loss: 0.6528 - val_accuracy: 0.6707\n"
          ],
          "name": "stdout"
        }
      ]
    },
    {
      "cell_type": "code",
      "metadata": {
        "colab": {
          "base_uri": "https://localhost:8080/"
        },
        "id": "RPm4MVzhGiJc",
        "outputId": "3d3d2e68-4b56-4dc4-808f-c1522aa54b99"
      },
      "source": [
        "model.evaluate(test_data,test_labes)"
      ],
      "execution_count": 34,
      "outputs": [
        {
          "output_type": "stream",
          "text": [
            "782/782 [==============================] - 1s 1ms/step - loss: 0.6528 - accuracy: 0.6748\n"
          ],
          "name": "stdout"
        },
        {
          "output_type": "execute_result",
          "data": {
            "text/plain": [
              "[0.6528283357620239, 0.674839973449707]"
            ]
          },
          "metadata": {
            "tags": []
          },
          "execution_count": 34
        }
      ]
    },
    {
      "cell_type": "code",
      "metadata": {
        "id": "qxYnJiNDHRIu"
      },
      "source": [
        ""
      ],
      "execution_count": null,
      "outputs": []
    }
  ]
}