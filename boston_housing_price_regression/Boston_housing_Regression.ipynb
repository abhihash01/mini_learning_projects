{
  "nbformat": 4,
  "nbformat_minor": 0,
  "metadata": {
    "colab": {
      "name": "Boston_housing_Regression.ipynb",
      "provenance": []
    },
    "kernelspec": {
      "name": "python3",
      "display_name": "Python 3"
    },
    "language_info": {
      "name": "python"
    }
  },
  "cells": [
    {
      "cell_type": "code",
      "metadata": {
        "id": "Y1db01xVTuHg"
      },
      "source": [
        "from keras.datasets import boston_housing"
      ],
      "execution_count": 1,
      "outputs": []
    },
    {
      "cell_type": "code",
      "metadata": {
        "colab": {
          "base_uri": "https://localhost:8080/"
        },
        "id": "-6wTw63MT_EU",
        "outputId": "76ba9904-2948-4a36-ac2b-8c0bd7286b23"
      },
      "source": [
        "(train_data,train_labels),(test_data,test_labels)=boston_housing.load_data()"
      ],
      "execution_count": 2,
      "outputs": [
        {
          "output_type": "stream",
          "text": [
            "Downloading data from https://storage.googleapis.com/tensorflow/tf-keras-datasets/boston_housing.npz\n",
            "57344/57026 [==============================] - 0s 0us/step\n"
          ],
          "name": "stdout"
        }
      ]
    },
    {
      "cell_type": "code",
      "metadata": {
        "id": "bw5KnmRWURiI"
      },
      "source": [
        "from keras.models import Sequential"
      ],
      "execution_count": 3,
      "outputs": []
    },
    {
      "cell_type": "code",
      "metadata": {
        "id": "mTDz2bQEUlpZ"
      },
      "source": [
        "mean=train_data.mean(axis=0)\n",
        "train_data=train_data-mean"
      ],
      "execution_count": 4,
      "outputs": []
    },
    {
      "cell_type": "code",
      "metadata": {
        "id": "aI15f-cfU2wX"
      },
      "source": [
        "std=train_data.std(axis=0)\n",
        "train_data=train_data/std"
      ],
      "execution_count": 5,
      "outputs": []
    },
    {
      "cell_type": "code",
      "metadata": {
        "id": "L2SrohzSVG4A"
      },
      "source": [
        "test_data=test_data-mean\n",
        "test_data=test_data/std"
      ],
      "execution_count": 6,
      "outputs": []
    },
    {
      "cell_type": "code",
      "metadata": {
        "id": "yMZm9kh9VQ5h"
      },
      "source": [
        "from keras import layers"
      ],
      "execution_count": 7,
      "outputs": []
    },
    {
      "cell_type": "code",
      "metadata": {
        "id": "sHqPq7GQVm8f"
      },
      "source": [
        "model=Sequential()\n",
        "model.add(layers.Dense(16,activation='relu'))\n",
        "model.add(layers.Dense(16,activation='relu'))\n",
        "model.add(layers.Dense(1))"
      ],
      "execution_count": 17,
      "outputs": []
    },
    {
      "cell_type": "code",
      "metadata": {
        "id": "sBUxgwwTVxl7"
      },
      "source": [
        "model.compile(optimizer='rmsprop',loss='mse',metrics=['mae'])"
      ],
      "execution_count": 18,
      "outputs": []
    },
    {
      "cell_type": "code",
      "metadata": {
        "colab": {
          "base_uri": "https://localhost:8080/"
        },
        "id": "Ho4QWwycWLDx",
        "outputId": "626a3eae-33c4-4f88-98a9-67ee2d3ce6af"
      },
      "source": [
        "history=model.fit(train_data,train_labels,epochs=100,validation_split=0.25,batch_size=1,verbose=1)"
      ],
      "execution_count": 19,
      "outputs": [
        {
          "output_type": "stream",
          "text": [
            "Epoch 1/100\n",
            "303/303 [==============================] - 1s 1ms/step - loss: 542.6202 - mae: 21.2658 - val_loss: 441.8105 - val_mae: 18.2463\n",
            "Epoch 2/100\n",
            "303/303 [==============================] - 0s 901us/step - loss: 234.7260 - mae: 12.6997 - val_loss: 172.1201 - val_mae: 8.6174\n",
            "Epoch 3/100\n",
            "303/303 [==============================] - 0s 908us/step - loss: 76.6204 - mae: 6.0151 - val_loss: 121.4210 - val_mae: 7.1967\n",
            "Epoch 4/100\n",
            "303/303 [==============================] - 0s 971us/step - loss: 51.7346 - mae: 4.8584 - val_loss: 93.4386 - val_mae: 6.0320\n",
            "Epoch 5/100\n",
            "303/303 [==============================] - 0s 960us/step - loss: 35.8738 - mae: 3.8945 - val_loss: 78.2493 - val_mae: 5.4373\n",
            "Epoch 6/100\n",
            "303/303 [==============================] - 0s 998us/step - loss: 27.0700 - mae: 3.5477 - val_loss: 65.0258 - val_mae: 4.9796\n",
            "Epoch 7/100\n",
            "303/303 [==============================] - 0s 982us/step - loss: 23.9862 - mae: 3.3267 - val_loss: 60.0912 - val_mae: 4.7722\n",
            "Epoch 8/100\n",
            "303/303 [==============================] - 0s 968us/step - loss: 33.9157 - mae: 3.5177 - val_loss: 53.8736 - val_mae: 4.4086\n",
            "Epoch 9/100\n",
            "303/303 [==============================] - 0s 1ms/step - loss: 20.6358 - mae: 2.9646 - val_loss: 52.1225 - val_mae: 4.2885\n",
            "Epoch 10/100\n",
            "303/303 [==============================] - 0s 973us/step - loss: 16.9367 - mae: 2.7765 - val_loss: 49.6972 - val_mae: 4.1130\n",
            "Epoch 11/100\n",
            "303/303 [==============================] - 0s 952us/step - loss: 13.1067 - mae: 2.3957 - val_loss: 46.2094 - val_mae: 3.9071\n",
            "Epoch 12/100\n",
            "303/303 [==============================] - 0s 1ms/step - loss: 19.3574 - mae: 2.8071 - val_loss: 44.4898 - val_mae: 3.7849\n",
            "Epoch 13/100\n",
            "303/303 [==============================] - 0s 969us/step - loss: 25.4447 - mae: 2.9454 - val_loss: 43.7343 - val_mae: 3.7531\n",
            "Epoch 14/100\n",
            "303/303 [==============================] - 0s 974us/step - loss: 15.5062 - mae: 2.3438 - val_loss: 42.3100 - val_mae: 3.6546\n",
            "Epoch 15/100\n",
            "303/303 [==============================] - 0s 973us/step - loss: 13.5901 - mae: 2.4108 - val_loss: 40.5816 - val_mae: 3.5702\n",
            "Epoch 16/100\n",
            "303/303 [==============================] - 0s 953us/step - loss: 13.6748 - mae: 2.3322 - val_loss: 40.3893 - val_mae: 3.6043\n",
            "Epoch 17/100\n",
            "303/303 [==============================] - 0s 1ms/step - loss: 16.0727 - mae: 2.4543 - val_loss: 38.6293 - val_mae: 3.4593\n",
            "Epoch 18/100\n",
            "303/303 [==============================] - 0s 955us/step - loss: 23.0035 - mae: 2.6302 - val_loss: 38.0585 - val_mae: 3.3926\n",
            "Epoch 19/100\n",
            "303/303 [==============================] - 0s 992us/step - loss: 25.6608 - mae: 2.7398 - val_loss: 36.6021 - val_mae: 3.2601\n",
            "Epoch 20/100\n",
            "303/303 [==============================] - 0s 968us/step - loss: 11.0375 - mae: 2.1893 - val_loss: 36.0743 - val_mae: 3.2944\n",
            "Epoch 21/100\n",
            "303/303 [==============================] - 0s 954us/step - loss: 24.7291 - mae: 2.5856 - val_loss: 33.9943 - val_mae: 3.3210\n",
            "Epoch 22/100\n",
            "303/303 [==============================] - 0s 929us/step - loss: 21.5525 - mae: 2.5400 - val_loss: 34.2599 - val_mae: 3.2160\n",
            "Epoch 23/100\n",
            "303/303 [==============================] - 0s 939us/step - loss: 15.0167 - mae: 2.1660 - val_loss: 32.2109 - val_mae: 3.1271\n",
            "Epoch 24/100\n",
            "303/303 [==============================] - 0s 981us/step - loss: 6.8163 - mae: 1.9157 - val_loss: 31.2439 - val_mae: 3.1347\n",
            "Epoch 25/100\n",
            "303/303 [==============================] - 0s 951us/step - loss: 11.3695 - mae: 2.0920 - val_loss: 31.8253 - val_mae: 3.0782\n",
            "Epoch 26/100\n",
            "303/303 [==============================] - 0s 937us/step - loss: 12.9809 - mae: 2.2533 - val_loss: 30.5356 - val_mae: 3.1487\n",
            "Epoch 27/100\n",
            "303/303 [==============================] - 0s 964us/step - loss: 15.9768 - mae: 2.3179 - val_loss: 31.6276 - val_mae: 3.0971\n",
            "Epoch 28/100\n",
            "303/303 [==============================] - 0s 1ms/step - loss: 10.5902 - mae: 2.0737 - val_loss: 29.2534 - val_mae: 3.0253\n",
            "Epoch 29/100\n",
            "303/303 [==============================] - 0s 989us/step - loss: 12.2068 - mae: 2.1791 - val_loss: 29.6051 - val_mae: 3.0032\n",
            "Epoch 30/100\n",
            "303/303 [==============================] - 0s 923us/step - loss: 10.6507 - mae: 2.2003 - val_loss: 29.1212 - val_mae: 3.0205\n",
            "Epoch 31/100\n",
            "303/303 [==============================] - 0s 1ms/step - loss: 10.4146 - mae: 2.1761 - val_loss: 29.4512 - val_mae: 3.0581\n",
            "Epoch 32/100\n",
            "303/303 [==============================] - 0s 947us/step - loss: 16.7455 - mae: 2.1551 - val_loss: 28.8737 - val_mae: 3.0620\n",
            "Epoch 33/100\n",
            "303/303 [==============================] - 0s 1ms/step - loss: 9.9478 - mae: 2.0261 - val_loss: 27.6041 - val_mae: 2.9267\n",
            "Epoch 34/100\n",
            "303/303 [==============================] - 0s 956us/step - loss: 9.4343 - mae: 2.0090 - val_loss: 26.6196 - val_mae: 2.8583\n",
            "Epoch 35/100\n",
            "303/303 [==============================] - 0s 976us/step - loss: 13.9888 - mae: 2.1443 - val_loss: 27.3062 - val_mae: 2.9027\n",
            "Epoch 36/100\n",
            "303/303 [==============================] - 0s 944us/step - loss: 9.5750 - mae: 1.9046 - val_loss: 25.9748 - val_mae: 2.8430\n",
            "Epoch 37/100\n",
            "303/303 [==============================] - 0s 1000us/step - loss: 7.6999 - mae: 1.8951 - val_loss: 25.9481 - val_mae: 2.8499\n",
            "Epoch 38/100\n",
            "303/303 [==============================] - 0s 945us/step - loss: 14.5609 - mae: 2.1324 - val_loss: 25.4261 - val_mae: 2.7738\n",
            "Epoch 39/100\n",
            "303/303 [==============================] - 0s 996us/step - loss: 11.8540 - mae: 2.0232 - val_loss: 25.5281 - val_mae: 2.8117\n",
            "Epoch 40/100\n",
            "303/303 [==============================] - 0s 962us/step - loss: 10.8143 - mae: 1.8376 - val_loss: 25.3753 - val_mae: 2.7695\n",
            "Epoch 41/100\n",
            "303/303 [==============================] - 0s 969us/step - loss: 13.0134 - mae: 2.1972 - val_loss: 24.4290 - val_mae: 2.7830\n",
            "Epoch 42/100\n",
            "303/303 [==============================] - 0s 1ms/step - loss: 10.8771 - mae: 1.9945 - val_loss: 24.4909 - val_mae: 2.8000\n",
            "Epoch 43/100\n",
            "303/303 [==============================] - 0s 1ms/step - loss: 11.2761 - mae: 2.1763 - val_loss: 24.1612 - val_mae: 2.7518\n",
            "Epoch 44/100\n",
            "303/303 [==============================] - 0s 1ms/step - loss: 15.5562 - mae: 2.2810 - val_loss: 23.6725 - val_mae: 2.7799\n",
            "Epoch 45/100\n",
            "303/303 [==============================] - 0s 938us/step - loss: 8.7493 - mae: 1.9998 - val_loss: 23.0744 - val_mae: 2.7266\n",
            "Epoch 46/100\n",
            "303/303 [==============================] - 0s 994us/step - loss: 9.5526 - mae: 1.9632 - val_loss: 23.0703 - val_mae: 2.8293\n",
            "Epoch 47/100\n",
            "303/303 [==============================] - 0s 989us/step - loss: 14.3179 - mae: 2.2278 - val_loss: 22.0163 - val_mae: 2.6856\n",
            "Epoch 48/100\n",
            "303/303 [==============================] - 0s 959us/step - loss: 10.8270 - mae: 1.9177 - val_loss: 21.8797 - val_mae: 2.6319\n",
            "Epoch 49/100\n",
            "303/303 [==============================] - 0s 1ms/step - loss: 8.1781 - mae: 1.8940 - val_loss: 21.9777 - val_mae: 2.6559\n",
            "Epoch 50/100\n",
            "303/303 [==============================] - 0s 998us/step - loss: 7.2802 - mae: 1.9013 - val_loss: 21.5697 - val_mae: 2.6519\n",
            "Epoch 51/100\n",
            "303/303 [==============================] - 0s 1ms/step - loss: 7.2994 - mae: 1.6680 - val_loss: 21.0343 - val_mae: 2.6072\n",
            "Epoch 52/100\n",
            "303/303 [==============================] - 0s 952us/step - loss: 12.7798 - mae: 2.1240 - val_loss: 21.2687 - val_mae: 2.7227\n",
            "Epoch 53/100\n",
            "303/303 [==============================] - 0s 1ms/step - loss: 6.4131 - mae: 1.6850 - val_loss: 21.4583 - val_mae: 2.6330\n",
            "Epoch 54/100\n",
            "303/303 [==============================] - 0s 1ms/step - loss: 10.9532 - mae: 1.9070 - val_loss: 21.8876 - val_mae: 2.6495\n",
            "Epoch 55/100\n",
            "303/303 [==============================] - 0s 954us/step - loss: 13.1189 - mae: 2.0330 - val_loss: 21.5598 - val_mae: 2.6752\n",
            "Epoch 56/100\n",
            "303/303 [==============================] - 0s 952us/step - loss: 8.8418 - mae: 1.8376 - val_loss: 20.5788 - val_mae: 2.5583\n",
            "Epoch 57/100\n",
            "303/303 [==============================] - 0s 974us/step - loss: 7.2154 - mae: 1.7865 - val_loss: 20.7141 - val_mae: 2.5973\n",
            "Epoch 58/100\n",
            "303/303 [==============================] - 0s 950us/step - loss: 13.6860 - mae: 1.9108 - val_loss: 20.5506 - val_mae: 2.6042\n",
            "Epoch 59/100\n",
            "303/303 [==============================] - 0s 964us/step - loss: 10.2532 - mae: 2.0258 - val_loss: 19.7327 - val_mae: 2.5879\n",
            "Epoch 60/100\n",
            "303/303 [==============================] - 0s 965us/step - loss: 8.9441 - mae: 1.9986 - val_loss: 20.8026 - val_mae: 2.6731\n",
            "Epoch 61/100\n",
            "303/303 [==============================] - 0s 1ms/step - loss: 8.2254 - mae: 1.8714 - val_loss: 20.4613 - val_mae: 2.5948\n",
            "Epoch 62/100\n",
            "303/303 [==============================] - 0s 965us/step - loss: 11.6210 - mae: 1.9757 - val_loss: 20.8578 - val_mae: 2.6429\n",
            "Epoch 63/100\n",
            "303/303 [==============================] - 0s 1ms/step - loss: 12.1010 - mae: 2.0437 - val_loss: 20.1402 - val_mae: 2.5865\n",
            "Epoch 64/100\n",
            "303/303 [==============================] - 0s 1ms/step - loss: 6.3745 - mae: 1.7774 - val_loss: 19.0984 - val_mae: 2.5186\n",
            "Epoch 65/100\n",
            "303/303 [==============================] - 0s 933us/step - loss: 8.3694 - mae: 1.8008 - val_loss: 19.6880 - val_mae: 2.5627\n",
            "Epoch 66/100\n",
            "303/303 [==============================] - 0s 972us/step - loss: 8.5220 - mae: 1.8518 - val_loss: 18.5760 - val_mae: 2.5262\n",
            "Epoch 67/100\n",
            "303/303 [==============================] - 0s 1ms/step - loss: 6.5182 - mae: 1.6880 - val_loss: 19.2853 - val_mae: 2.5350\n",
            "Epoch 68/100\n",
            "303/303 [==============================] - 0s 972us/step - loss: 8.7835 - mae: 1.8138 - val_loss: 19.5731 - val_mae: 2.5216\n",
            "Epoch 69/100\n",
            "303/303 [==============================] - 0s 952us/step - loss: 5.7400 - mae: 1.6421 - val_loss: 19.1467 - val_mae: 2.6100\n",
            "Epoch 70/100\n",
            "303/303 [==============================] - 0s 1ms/step - loss: 7.2669 - mae: 1.8014 - val_loss: 18.4440 - val_mae: 2.4835\n",
            "Epoch 71/100\n",
            "303/303 [==============================] - 0s 1ms/step - loss: 7.8541 - mae: 1.7621 - val_loss: 19.0962 - val_mae: 2.5362\n",
            "Epoch 72/100\n",
            "303/303 [==============================] - 0s 999us/step - loss: 8.2251 - mae: 1.8146 - val_loss: 18.3361 - val_mae: 2.4811\n",
            "Epoch 73/100\n",
            "303/303 [==============================] - 0s 991us/step - loss: 7.8251 - mae: 1.7104 - val_loss: 18.3245 - val_mae: 2.6154\n",
            "Epoch 74/100\n",
            "303/303 [==============================] - 0s 1ms/step - loss: 5.7872 - mae: 1.5891 - val_loss: 18.1148 - val_mae: 2.4972\n",
            "Epoch 75/100\n",
            "303/303 [==============================] - 0s 935us/step - loss: 12.0597 - mae: 1.9448 - val_loss: 18.8842 - val_mae: 2.5346\n",
            "Epoch 76/100\n",
            "303/303 [==============================] - 0s 941us/step - loss: 6.4432 - mae: 1.5594 - val_loss: 18.0864 - val_mae: 2.5403\n",
            "Epoch 77/100\n",
            "303/303 [==============================] - 0s 1ms/step - loss: 9.8941 - mae: 1.9371 - val_loss: 17.7357 - val_mae: 2.5022\n",
            "Epoch 78/100\n",
            "303/303 [==============================] - 0s 1ms/step - loss: 7.7487 - mae: 1.6533 - val_loss: 17.7901 - val_mae: 2.5001\n",
            "Epoch 79/100\n",
            "303/303 [==============================] - 0s 960us/step - loss: 9.0720 - mae: 1.9203 - val_loss: 17.6609 - val_mae: 2.5573\n",
            "Epoch 80/100\n",
            "303/303 [==============================] - 0s 1ms/step - loss: 9.7970 - mae: 1.8586 - val_loss: 17.7026 - val_mae: 2.5862\n",
            "Epoch 81/100\n",
            "303/303 [==============================] - 0s 983us/step - loss: 13.8864 - mae: 2.0693 - val_loss: 17.4232 - val_mae: 2.4974\n",
            "Epoch 82/100\n",
            "303/303 [==============================] - 0s 936us/step - loss: 10.6252 - mae: 1.9668 - val_loss: 18.0473 - val_mae: 2.5536\n",
            "Epoch 83/100\n",
            "303/303 [==============================] - 0s 952us/step - loss: 7.1759 - mae: 1.7723 - val_loss: 18.2554 - val_mae: 2.5007\n",
            "Epoch 84/100\n",
            "303/303 [==============================] - 0s 1ms/step - loss: 7.5190 - mae: 1.7190 - val_loss: 17.9084 - val_mae: 2.4813\n",
            "Epoch 85/100\n",
            "303/303 [==============================] - 0s 962us/step - loss: 7.2515 - mae: 1.6184 - val_loss: 16.7426 - val_mae: 2.4825\n",
            "Epoch 86/100\n",
            "303/303 [==============================] - 0s 918us/step - loss: 6.6810 - mae: 1.6089 - val_loss: 17.3710 - val_mae: 2.5072\n",
            "Epoch 87/100\n",
            "303/303 [==============================] - 0s 1ms/step - loss: 6.8724 - mae: 1.8723 - val_loss: 16.7811 - val_mae: 2.4769\n",
            "Epoch 88/100\n",
            "303/303 [==============================] - 0s 975us/step - loss: 6.3290 - mae: 1.6293 - val_loss: 17.7746 - val_mae: 2.6151\n",
            "Epoch 89/100\n",
            "303/303 [==============================] - 0s 991us/step - loss: 8.8785 - mae: 1.7374 - val_loss: 16.2659 - val_mae: 2.4294\n",
            "Epoch 90/100\n",
            "303/303 [==============================] - 0s 1ms/step - loss: 6.7303 - mae: 1.7161 - val_loss: 16.5069 - val_mae: 2.4218\n",
            "Epoch 91/100\n",
            "303/303 [==============================] - 0s 1ms/step - loss: 7.7769 - mae: 1.6948 - val_loss: 16.4566 - val_mae: 2.4508\n",
            "Epoch 92/100\n",
            "303/303 [==============================] - 0s 961us/step - loss: 7.6333 - mae: 1.6194 - val_loss: 16.2520 - val_mae: 2.4377\n",
            "Epoch 93/100\n",
            "303/303 [==============================] - 0s 991us/step - loss: 6.7460 - mae: 1.6209 - val_loss: 16.0940 - val_mae: 2.4884\n",
            "Epoch 94/100\n",
            "303/303 [==============================] - 0s 1ms/step - loss: 6.7840 - mae: 1.5977 - val_loss: 16.9202 - val_mae: 2.4611\n",
            "Epoch 95/100\n",
            "303/303 [==============================] - 0s 976us/step - loss: 6.3037 - mae: 1.7014 - val_loss: 15.8957 - val_mae: 2.4471\n",
            "Epoch 96/100\n",
            "303/303 [==============================] - 0s 984us/step - loss: 8.5467 - mae: 1.7680 - val_loss: 17.5881 - val_mae: 2.7663\n",
            "Epoch 97/100\n",
            "303/303 [==============================] - 0s 1ms/step - loss: 10.0339 - mae: 1.7866 - val_loss: 16.5358 - val_mae: 2.4404\n",
            "Epoch 98/100\n",
            "303/303 [==============================] - 0s 942us/step - loss: 7.6654 - mae: 1.7150 - val_loss: 16.1912 - val_mae: 2.4984\n",
            "Epoch 99/100\n",
            "303/303 [==============================] - 0s 991us/step - loss: 7.6805 - mae: 1.7594 - val_loss: 15.9788 - val_mae: 2.5104\n",
            "Epoch 100/100\n",
            "303/303 [==============================] - 0s 1ms/step - loss: 10.4623 - mae: 1.9895 - val_loss: 17.0400 - val_mae: 2.6489\n"
          ],
          "name": "stdout"
        }
      ]
    },
    {
      "cell_type": "code",
      "metadata": {
        "colab": {
          "base_uri": "https://localhost:8080/"
        },
        "id": "X5F8AL6KwwKj",
        "outputId": "fd0d3c70-478a-4255-9dfe-8adc417cc527"
      },
      "source": [
        "model.evaluate(test_data,test_labels,verbose=1)"
      ],
      "execution_count": 20,
      "outputs": [
        {
          "output_type": "stream",
          "text": [
            "4/4 [==============================] - 0s 3ms/step - loss: 17.1155 - mae: 2.5912\n"
          ],
          "name": "stdout"
        },
        {
          "output_type": "execute_result",
          "data": {
            "text/plain": [
              "[17.11547088623047, 2.5911829471588135]"
            ]
          },
          "metadata": {
            "tags": []
          },
          "execution_count": 20
        }
      ]
    },
    {
      "cell_type": "code",
      "metadata": {
        "id": "TMHJCIvm0oV1"
      },
      "source": [
        "history_dict=history.history"
      ],
      "execution_count": 22,
      "outputs": []
    },
    {
      "cell_type": "code",
      "metadata": {
        "id": "cXvlqwJe1LvE"
      },
      "source": [
        "from matplotlib import pyplot as plt"
      ],
      "execution_count": 23,
      "outputs": []
    },
    {
      "cell_type": "code",
      "metadata": {
        "colab": {
          "base_uri": "https://localhost:8080/"
        },
        "id": "t3H_5_Wb1Uvy",
        "outputId": "8b2ca16b-a196-4750-abb3-f04c7c276e14"
      },
      "source": [
        "history_dict.keys()"
      ],
      "execution_count": 24,
      "outputs": [
        {
          "output_type": "execute_result",
          "data": {
            "text/plain": [
              "dict_keys(['loss', 'mae', 'val_loss', 'val_mae'])"
            ]
          },
          "metadata": {
            "tags": []
          },
          "execution_count": 24
        }
      ]
    },
    {
      "cell_type": "code",
      "metadata": {
        "colab": {
          "base_uri": "https://localhost:8080/",
          "height": 265
        },
        "id": "lq6XRgDR1Z_p",
        "outputId": "449b90c1-3175-41a2-c3f2-382c6e2d4a5b"
      },
      "source": [
        "plt.plot(range(1,len(history_dict['mae'])+1),history_dict['mae'],'b',label='mae')\n",
        "plt.plot(range(1,len(history_dict['mae'])+1),history_dict['val_mae'],'bo',label=' val_mae')\n",
        "plt.show()"
      ],
      "execution_count": 28,
      "outputs": [
        {
          "output_type": "display_data",
          "data": {
            "image/png": "[encoded data removed]",
            "text/plain": [
              "<Figure size 432x288 with 1 Axes>"
            ]
          },
          "metadata": {
            "tags": [],
            "needs_background": "light"
          }
        }
      ]
    },
    {
      "cell_type": "code",
      "metadata": {
        "colab": {
          "base_uri": "https://localhost:8080/",
          "height": 269
        },
        "id": "IPA3z6Ng1xuy",
        "outputId": "14dbf8d2-79c5-4281-d095-cd17b3099863"
      },
      "source": [
        "#dropping the first 10\n",
        "plt.plot(range(12,len(history_dict['mae'])+1),history_dict['mae'][11:],'b',label='mae')\n",
        "plt.show()\n"
      ],
      "execution_count": 37,
      "outputs": [
        {
          "output_type": "display_data",
          "data": {
            "image/png": "[encoded data removed]",
            "text/plain": [
              "<Figure size 432x288 with 1 Axes>"
            ]
          },
          "metadata": {
            "tags": [],
            "needs_background": "light"
          }
        }
      ]
    },
    {
      "cell_type": "code",
      "metadata": {
        "id": "eDHCZ6EF2_vO"
      },
      "source": [
        "def smooth_func(points,factor=0.9):\n",
        "  full_set=[]\n",
        "  for point in points:\n",
        "    if(full_set):\n",
        "      full_set.append(full_set[-1]*factor+(1-factor)*point)\n",
        "    else:\n",
        "      full_set.append(point)\n",
        "  return full_set"
      ],
      "execution_count": 38,
      "outputs": []
    },
    {
      "cell_type": "code",
      "metadata": {
        "id": "sunPuYK44yAY"
      },
      "source": [
        "smooth_set=smooth_func(history_dict['mae'])"
      ],
      "execution_count": 39,
      "outputs": []
    },
    {
      "cell_type": "code",
      "metadata": {
        "colab": {
          "base_uri": "https://localhost:8080/",
          "height": 265
        },
        "id": "M_eoq8uO5Bz1",
        "outputId": "2cf021e3-0648-4122-d664-2ddf79c7f9c4"
      },
      "source": [
        "plt.plot(range(1,len(history_dict['mae'])+1),smooth_set,'b',label='mae')\n",
        "plt.show()\n"
      ],
      "execution_count": 40,
      "outputs": [
        {
          "output_type": "display_data",
          "data": {
            "image/png": "[encoded data removed]",
            "text/plain": [
              "<Figure size 432x288 with 1 Axes>"
            ]
          },
          "metadata": {
            "tags": [],
            "needs_background": "light"
          }
        }
      ]
    },
    {
      "cell_type": "code",
      "metadata": {
        "colab": {
          "base_uri": "https://localhost:8080/",
          "height": 265
        },
        "id": "Lde5h3J85PFL",
        "outputId": "17608e5c-79e2-4121-af1b-d2daf90ee7d3"
      },
      "source": [
        "plt.plot(range(22,len(history_dict['mae'])+1),smooth_set[21:],'b',label='mae')\n",
        "plt.show()"
      ],
      "execution_count": 42,
      "outputs": [
        {
          "output_type": "display_data",
          "data": {
            "image/png": "[encoded data removed]",
            "text/plain": [
              "<Figure size 432x288 with 1 Axes>"
            ]
          },
          "metadata": {
            "tags": [],
            "needs_background": "light"
          }
        }
      ]
    },
    {
      "cell_type": "code",
      "metadata": {
        "colab": {
          "base_uri": "https://localhost:8080/"
        },
        "id": "MAZfjTt85Ve5",
        "outputId": "ff0d42b6-c8f5-4f55-e161-3f903cc9d9e3"
      },
      "source": [
        "test_data[0]"
      ],
      "execution_count": 44,
      "outputs": [
        {
          "output_type": "execute_result",
          "data": {
            "text/plain": [
              "array([ 1.55369355, -0.48361547,  1.0283258 , -0.25683275,  1.03838067,\n",
              "        0.23545815,  1.11048828, -0.93976936,  1.67588577,  1.5652875 ,\n",
              "        0.78447637, -3.48459553,  2.25092074])"
            ]
          },
          "metadata": {
            "tags": []
          },
          "execution_count": 44
        }
      ]
    },
    {
      "cell_type": "code",
      "metadata": {
        "colab": {
          "base_uri": "https://localhost:8080/"
        },
        "id": "2yf2lHEP5gsM",
        "outputId": "73cce75c-4c9c-481f-b269-9b5533cb7192"
      },
      "source": [
        "test_labels[0]"
      ],
      "execution_count": 45,
      "outputs": [
        {
          "output_type": "execute_result",
          "data": {
            "text/plain": [
              "7.2"
            ]
          },
          "metadata": {
            "tags": []
          },
          "execution_count": 45
        }
      ]
    },
    {
      "cell_type": "code",
      "metadata": {
        "id": "baIOK6D25wX4"
      },
      "source": [
        "predictions_set=model.predict(test_data)"
      ],
      "execution_count": 58,
      "outputs": []
    },
    {
      "cell_type": "code",
      "metadata": {
        "id": "Sq3LOvkdAuxw"
      },
      "source": [
        "import numpy as np"
      ],
      "execution_count": 52,
      "outputs": []
    },
    {
      "cell_type": "code",
      "metadata": {
        "colab": {
          "base_uri": "https://localhost:8080/"
        },
        "id": "pUTfuK4A5zqQ",
        "outputId": "7d45a2d6-17e6-4113-c198-174bdb00361e"
      },
      "source": [
        "model.predict(np.reshape(test_data[0],(-1,13)))"
      ],
      "execution_count": 55,
      "outputs": [
        {
          "output_type": "execute_result",
          "data": {
            "text/plain": [
              "array([[9.32135]], dtype=float32)"
            ]
          },
          "metadata": {
            "tags": []
          },
          "execution_count": 55
        }
      ]
    },
    {
      "cell_type": "code",
      "metadata": {
        "colab": {
          "base_uri": "https://localhost:8080/"
        },
        "id": "aFvuXijQAKXd",
        "outputId": "7ee4426e-b4fb-410d-ea0f-12bfadcd1c74"
      },
      "source": [
        "test_data.shape"
      ],
      "execution_count": 56,
      "outputs": [
        {
          "output_type": "execute_result",
          "data": {
            "text/plain": [
              "(102, 13)"
            ]
          },
          "metadata": {
            "tags": []
          },
          "execution_count": 56
        }
      ]
    },
    {
      "cell_type": "code",
      "metadata": {
        "colab": {
          "base_uri": "https://localhost:8080/"
        },
        "id": "t37cMGJbA-gO",
        "outputId": "7317df55-91e2-494a-9fc0-b6454474704a"
      },
      "source": [
        "test_data[0].shape"
      ],
      "execution_count": 57,
      "outputs": [
        {
          "output_type": "execute_result",
          "data": {
            "text/plain": [
              "(13,)"
            ]
          },
          "metadata": {
            "tags": []
          },
          "execution_count": 57
        }
      ]
    },
    {
      "cell_type": "code",
      "metadata": {
        "colab": {
          "base_uri": "https://localhost:8080/"
        },
        "id": "6Wl78AuzB0nI",
        "outputId": "4738ae5d-457e-4fd9-8c2b-04644af2421e"
      },
      "source": [
        "from sklearn.metrics import mean_squared_error\n",
        "mean_squared_error(predictions_set,test_labels)"
      ],
      "execution_count": 59,
      "outputs": [
        {
          "output_type": "execute_result",
          "data": {
            "text/plain": [
              "17.115474041291527"
            ]
          },
          "metadata": {
            "tags": []
          },
          "execution_count": 59
        }
      ]
    },
    {
      "cell_type": "code",
      "metadata": {
        "colab": {
          "base_uri": "https://localhost:8080/"
        },
        "id": "ZJMA1It5BBz7",
        "outputId": "2eb852a2-736e-4fba-fbe6-9654e614db03"
      },
      "source": [
        "len(predictions_set)"
      ],
      "execution_count": 60,
      "outputs": [
        {
          "output_type": "execute_result",
          "data": {
            "text/plain": [
              "102"
            ]
          },
          "metadata": {
            "tags": []
          },
          "execution_count": 60
        }
      ]
    },
    {
      "cell_type": "code",
      "metadata": {
        "id": "gk6DpNGMCHD7"
      },
      "source": [
        ""
      ],
      "execution_count": null,
      "outputs": []
    }
  ]
}