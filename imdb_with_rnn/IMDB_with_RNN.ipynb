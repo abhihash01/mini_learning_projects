{
  "nbformat": 4,
  "nbformat_minor": 0,
  "metadata": {
    "colab": {
      "name": "IMDB_with_RNN.ipynb",
      "provenance": []
    },
    "kernelspec": {
      "name": "python3",
      "display_name": "Python 3"
    },
    "language_info": {
      "name": "python"
    }
  },
  "cells": [
    {
      "cell_type": "code",
      "metadata": {
        "colab": {
          "base_uri": "https://localhost:8080/"
        },
        "id": "uBFosj6VVFR6",
        "outputId": "875344a2-fcaf-4a1b-cab4-f7a97a591a3c"
      },
      "source": [
        "from keras.datasets import imdb\n",
        "top_words=10000\n",
        "sq_len=500\n",
        "(train_data,train_labels),(test_data,test_labels)=imdb.load_data(num_words=top_words)"
      ],
      "execution_count": 20,
      "outputs": [
        {
          "output_type": "stream",
          "text": [
            "<string>:6: VisibleDeprecationWarning: Creating an ndarray from ragged nested sequences (which is a list-or-tuple of lists-or-tuples-or ndarrays with different lengths or shapes) is deprecated. If you meant to do this, you must specify 'dtype=object' when creating the ndarray\n",
            "/usr/local/lib/python3.7/dist-packages/tensorflow/python/keras/datasets/imdb.py:159: VisibleDeprecationWarning: Creating an ndarray from ragged nested sequences (which is a list-or-tuple of lists-or-tuples-or ndarrays with different lengths or shapes) is deprecated. If you meant to do this, you must specify 'dtype=object' when creating the ndarray\n",
            "  x_train, y_train = np.array(xs[:idx]), np.array(labels[:idx])\n",
            "/usr/local/lib/python3.7/dist-packages/tensorflow/python/keras/datasets/imdb.py:160: VisibleDeprecationWarning: Creating an ndarray from ragged nested sequences (which is a list-or-tuple of lists-or-tuples-or ndarrays with different lengths or shapes) is deprecated. If you meant to do this, you must specify 'dtype=object' when creating the ndarray\n",
            "  x_test, y_test = np.array(xs[idx:]), np.array(labels[idx:])\n"
          ],
          "name": "stderr"
        }
      ]
    },
    {
      "cell_type": "code",
      "metadata": {
        "id": "Pp4VfyuAbVV4"
      },
      "source": [
        "from keras.preprocessing import sequence"
      ],
      "execution_count": 21,
      "outputs": []
    },
    {
      "cell_type": "code",
      "metadata": {
        "id": "BErmwWp8b1Fz"
      },
      "source": [
        "train_data=sequence.pad_sequences(train_data,maxlen=sq_len)\n",
        "test_data=sequence.pad_sequences(test_data,maxlen=sq_len)"
      ],
      "execution_count": 22,
      "outputs": []
    },
    {
      "cell_type": "code",
      "metadata": {
        "id": "7sK-OvzDcRhi"
      },
      "source": [
        "from keras import layers"
      ],
      "execution_count": 23,
      "outputs": []
    },
    {
      "cell_type": "code",
      "metadata": {
        "id": "rDF9WY8YcjGs"
      },
      "source": [
        "from keras.models import Sequential"
      ],
      "execution_count": 24,
      "outputs": []
    },
    {
      "cell_type": "code",
      "metadata": {
        "id": "J0To8TpzcmWR"
      },
      "source": [
        "model=Sequential()"
      ],
      "execution_count": 25,
      "outputs": []
    },
    {
      "cell_type": "code",
      "metadata": {
        "id": "O9ArhCPzcn2d"
      },
      "source": [
        "model.add(layers.Embedding(top_words,32))\n",
        "model.add(layers.SimpleRNN(32))\n",
        "model.add(layers.Dense(1,activation='sigmoid'))"
      ],
      "execution_count": 26,
      "outputs": []
    },
    {
      "cell_type": "code",
      "metadata": {
        "id": "F-hBLbacdP3O"
      },
      "source": [
        "from keras import optimizers"
      ],
      "execution_count": 27,
      "outputs": []
    },
    {
      "cell_type": "code",
      "metadata": {
        "id": "06ImnOB9dH6g"
      },
      "source": [
        "model.compile(optimizers.RMSprop(1e-3),loss='binary_crossentropy',metrics=['accuracy'])"
      ],
      "execution_count": 28,
      "outputs": []
    },
    {
      "cell_type": "code",
      "metadata": {
        "colab": {
          "base_uri": "https://localhost:8080/"
        },
        "id": "1i6YgYgKdanX",
        "outputId": "17f3e658-4e53-44f1-f670-2ed26b4fa6fe"
      },
      "source": [
        "model.fit(train_data,train_labels,epochs=10,batch_size=128,validation_split=0.2)"
      ],
      "execution_count": 29,
      "outputs": [
        {
          "output_type": "stream",
          "text": [
            "Epoch 1/10\n",
            "157/157 [==============================] - 25s 154ms/step - loss: 0.6772 - accuracy: 0.5624 - val_loss: 0.4846 - val_accuracy: 0.8174\n",
            "Epoch 2/10\n",
            "157/157 [==============================] - 24s 152ms/step - loss: 0.4417 - accuracy: 0.8191 - val_loss: 0.3973 - val_accuracy: 0.8320\n",
            "Epoch 3/10\n",
            "157/157 [==============================] - 23s 149ms/step - loss: 0.3237 - accuracy: 0.8706 - val_loss: 0.3862 - val_accuracy: 0.8276\n",
            "Epoch 4/10\n",
            "157/157 [==============================] - 23s 147ms/step - loss: 0.2760 - accuracy: 0.8933 - val_loss: 0.3475 - val_accuracy: 0.8526\n",
            "Epoch 5/10\n",
            "157/157 [==============================] - 23s 146ms/step - loss: 0.2141 - accuracy: 0.9196 - val_loss: 0.4997 - val_accuracy: 0.8186\n",
            "Epoch 6/10\n",
            "157/157 [==============================] - 23s 146ms/step - loss: 0.2075 - accuracy: 0.9248 - val_loss: 0.4439 - val_accuracy: 0.8026\n",
            "Epoch 7/10\n",
            "157/157 [==============================] - 23s 146ms/step - loss: 0.1676 - accuracy: 0.9377 - val_loss: 0.3613 - val_accuracy: 0.8674\n",
            "Epoch 8/10\n",
            "157/157 [==============================] - 23s 145ms/step - loss: 0.1222 - accuracy: 0.9555 - val_loss: 0.4839 - val_accuracy: 0.8288\n",
            "Epoch 9/10\n",
            "157/157 [==============================] - 23s 150ms/step - loss: 0.1023 - accuracy: 0.9655 - val_loss: 0.4841 - val_accuracy: 0.8480\n",
            "Epoch 10/10\n",
            "157/157 [==============================] - 23s 147ms/step - loss: 0.0771 - accuracy: 0.9746 - val_loss: 0.4370 - val_accuracy: 0.8508\n"
          ],
          "name": "stdout"
        },
        {
          "output_type": "execute_result",
          "data": {
            "text/plain": [
              "<tensorflow.python.keras.callbacks.History at 0x7fa2b8ab76d0>"
            ]
          },
          "metadata": {
            "tags": []
          },
          "execution_count": 29
        }
      ]
    },
    {
      "cell_type": "code",
      "metadata": {
        "colab": {
          "base_uri": "https://localhost:8080/"
        },
        "id": "EMaKQ023dtFb",
        "outputId": "38136dc5-2412-44db-d64f-840889df393f"
      },
      "source": [
        "model.evaluate(test_data,test_labels)"
      ],
      "execution_count": 30,
      "outputs": [
        {
          "output_type": "stream",
          "text": [
            "782/782 [==============================] - 19s 24ms/step - loss: 0.4737 - accuracy: 0.8405\n"
          ],
          "name": "stdout"
        },
        {
          "output_type": "execute_result",
          "data": {
            "text/plain": [
              "[0.4736676514148712, 0.8405200242996216]"
            ]
          },
          "metadata": {
            "tags": []
          },
          "execution_count": 30
        }
      ]
    },
    {
      "cell_type": "code",
      "metadata": {
        "id": "q99J4i_ceP7A"
      },
      "source": [
        ""
      ],
      "execution_count": null,
      "outputs": []
    }
  ]
}