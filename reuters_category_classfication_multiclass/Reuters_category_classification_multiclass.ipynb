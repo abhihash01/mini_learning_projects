{
  "nbformat": 4,
  "nbformat_minor": 0,
  "metadata": {
    "colab": {
      "name": "Reuters_category_classification_multiclass.ipynb",
      "provenance": []
    },
    "kernelspec": {
      "name": "python3",
      "display_name": "Python 3"
    },
    "language_info": {
      "name": "python"
    }
  },
  "cells": [
    {
      "cell_type": "code",
      "metadata": {
        "id": "AuRcUOgHV7Nv"
      },
      "source": [
        "from keras.datasets import reuters"
      ],
      "execution_count": 1,
      "outputs": []
    },
    {
      "cell_type": "code",
      "metadata": {
        "colab": {
          "base_uri": "https://localhost:8080/"
        },
        "id": "vy3g2enkDONF",
        "outputId": "5b094776-a8fa-4f59-b153-b669e0c87399"
      },
      "source": [
        "(train_data,train_labels),(test_data,test_labels)=reuters.load_data(num_words=10000)"
      ],
      "execution_count": 2,
      "outputs": [
        {
          "output_type": "stream",
          "text": [
            "Downloading data from https://storage.googleapis.com/tensorflow/tf-keras-datasets/reuters.npz\n",
            "2113536/2110848 [==============================] - 0s 0us/step\n"
          ],
          "name": "stdout"
        },
        {
          "output_type": "stream",
          "text": [
            "/usr/local/lib/python3.7/dist-packages/tensorflow/python/keras/datasets/reuters.py:148: VisibleDeprecationWarning: Creating an ndarray from ragged nested sequences (which is a list-or-tuple of lists-or-tuples-or ndarrays with different lengths or shapes) is deprecated. If you meant to do this, you must specify 'dtype=object' when creating the ndarray\n",
            "  x_train, y_train = np.array(xs[:idx]), np.array(labels[:idx])\n",
            "/usr/local/lib/python3.7/dist-packages/tensorflow/python/keras/datasets/reuters.py:149: VisibleDeprecationWarning: Creating an ndarray from ragged nested sequences (which is a list-or-tuple of lists-or-tuples-or ndarrays with different lengths or shapes) is deprecated. If you meant to do this, you must specify 'dtype=object' when creating the ndarray\n",
            "  x_test, y_test = np.array(xs[idx:]), np.array(labels[idx:])\n"
          ],
          "name": "stderr"
        }
      ]
    },
    {
      "cell_type": "code",
      "metadata": {
        "id": "yXKZJg3aDzU0"
      },
      "source": [
        "def vectorize(sequences, dimension=10000):\n",
        "  result=np.zeros((len(sequences),dimension))\n",
        "  for i,sequence in enumerate(sequences):\n",
        "    result[i,sequence]=1\n",
        "  return result"
      ],
      "execution_count": 5,
      "outputs": []
    },
    {
      "cell_type": "code",
      "metadata": {
        "id": "xUSarJ9Uubxd"
      },
      "source": [
        "import numpy as np"
      ],
      "execution_count": 7,
      "outputs": []
    },
    {
      "cell_type": "markdown",
      "metadata": {
        "id": "82YKtEz1ugbI"
      },
      "source": [
        "for labels, can either use the similar vectorize method or use to_categorical\n",
        "\n"
      ]
    },
    {
      "cell_type": "code",
      "metadata": {
        "id": "hgHBtbVeuxAU"
      },
      "source": [
        "#extra optoin\n",
        "#dimension=number of classes(here it is 46)\n",
        "def one_hot_ref(sequences, dimension=np.amax(train_labels)):\n",
        "  result=np.zeros((len(sequences),dimension))\n",
        "  for i,sequence in enumerate(sequences):\n",
        "    result[i,sequence]=1\n",
        "  return result"
      ],
      "execution_count": 10,
      "outputs": []
    },
    {
      "cell_type": "code",
      "metadata": {
        "id": "JLgJjHIOFqNM"
      },
      "source": [
        "import numpy as np"
      ],
      "execution_count": 13,
      "outputs": []
    },
    {
      "cell_type": "code",
      "metadata": {
        "id": "LkYHYUXIFtOy"
      },
      "source": [
        "#option 2\n",
        "def to_one_hot(labels, dimension=46):\n",
        "  result_labels=np.zeros((len(labels), dimension))\n",
        "  for i, label in enumerate(labels):\n",
        "    #print('this is the number %d'% i)\n",
        "    #print(label)\n",
        "    result_labels[i,label]=1\n",
        "  return result_labels"
      ],
      "execution_count": 14,
      "outputs": []
    },
    {
      "cell_type": "code",
      "metadata": {
        "id": "rdnr5AhVHpNs"
      },
      "source": [
        "from keras.utils import to_categorical"
      ],
      "execution_count": 15,
      "outputs": []
    },
    {
      "cell_type": "code",
      "metadata": {
        "id": "YLOvC5r4Hvkm"
      },
      "source": [
        "train_i=vectorize(train_data)\n",
        "test_i=vectorize(test_data)\n",
        "train_i_labels=to_categorical(train_labels)\n",
        "test_i_labels=to_categorical(test_labels)"
      ],
      "execution_count": 16,
      "outputs": []
    },
    {
      "cell_type": "code",
      "metadata": {
        "id": "pBt9P93KJccf"
      },
      "source": [
        "from keras import models"
      ],
      "execution_count": 17,
      "outputs": []
    },
    {
      "cell_type": "code",
      "metadata": {
        "id": "-I9m1a82Kf05"
      },
      "source": [
        "model=models.Sequential()"
      ],
      "execution_count": 18,
      "outputs": []
    },
    {
      "cell_type": "code",
      "metadata": {
        "id": "14MS1NtNKoR8"
      },
      "source": [
        "from keras import layers"
      ],
      "execution_count": 19,
      "outputs": []
    },
    {
      "cell_type": "code",
      "metadata": {
        "id": "UNzMnbeJKzrm"
      },
      "source": [
        "model.add(layers.Dense(64,activation='relu',input_shape=(10000,)))"
      ],
      "execution_count": 20,
      "outputs": []
    },
    {
      "cell_type": "code",
      "metadata": {
        "id": "03WPTMSrLS-o"
      },
      "source": [
        "model.add(layers.Dense(64,activation='relu'))"
      ],
      "execution_count": 21,
      "outputs": []
    },
    {
      "cell_type": "code",
      "metadata": {
        "id": "nrfZgnvXLZbR"
      },
      "source": [
        "model.add(layers.Dense(46,activation='softmax'))"
      ],
      "execution_count": 24,
      "outputs": []
    },
    {
      "cell_type": "code",
      "metadata": {
        "id": "MHceEerxLgRJ"
      },
      "source": [
        "model.compile(optimizer='rmsprop',loss='categorical_crossentropy',metrics=['accuracy'])"
      ],
      "execution_count": 25,
      "outputs": []
    },
    {
      "cell_type": "code",
      "metadata": {
        "id": "AINYN2IQMZZl"
      },
      "source": [
        "train_val=train_i[:1000]\n",
        "train_set=train_i[1000:]\n",
        "train_labels_val=train_i_labels[:1000]\n",
        "train_set_labels=train_i_labels[1000:]"
      ],
      "execution_count": 26,
      "outputs": []
    },
    {
      "cell_type": "code",
      "metadata": {
        "colab": {
          "base_uri": "https://localhost:8080/"
        },
        "id": "0ojy9GifNKQR",
        "outputId": "c86fb1c6-0d60-4ef1-aca4-8e0da16e2f3f"
      },
      "source": [
        "history=model.fit(train_set, train_set_labels, epochs=20, batch_size=512,validation_data=(train_val,train_labels_val))"
      ],
      "execution_count": 27,
      "outputs": [
        {
          "output_type": "stream",
          "text": [
            "Epoch 1/20\n",
            "16/16 [==============================] - 2s 60ms/step - loss: 3.2481 - accuracy: 0.4016 - val_loss: 1.7937 - val_accuracy: 0.6520\n",
            "Epoch 2/20\n",
            "16/16 [==============================] - 1s 42ms/step - loss: 1.5519 - accuracy: 0.6987 - val_loss: 1.3195 - val_accuracy: 0.7250\n",
            "Epoch 3/20\n",
            "16/16 [==============================] - 1s 43ms/step - loss: 1.0843 - accuracy: 0.7803 - val_loss: 1.1371 - val_accuracy: 0.7550\n",
            "Epoch 4/20\n",
            "16/16 [==============================] - 1s 44ms/step - loss: 0.8561 - accuracy: 0.8221 - val_loss: 1.0454 - val_accuracy: 0.7780\n",
            "Epoch 5/20\n",
            "16/16 [==============================] - 1s 43ms/step - loss: 0.6695 - accuracy: 0.8616 - val_loss: 0.9790 - val_accuracy: 0.7940\n",
            "Epoch 6/20\n",
            "16/16 [==============================] - 1s 43ms/step - loss: 0.5238 - accuracy: 0.8913 - val_loss: 0.9092 - val_accuracy: 0.8120\n",
            "Epoch 7/20\n",
            "16/16 [==============================] - 1s 45ms/step - loss: 0.4312 - accuracy: 0.9155 - val_loss: 0.9046 - val_accuracy: 0.8090\n",
            "Epoch 8/20\n",
            "16/16 [==============================] - 1s 43ms/step - loss: 0.3567 - accuracy: 0.9295 - val_loss: 0.8833 - val_accuracy: 0.8100\n",
            "Epoch 9/20\n",
            "16/16 [==============================] - 1s 42ms/step - loss: 0.2950 - accuracy: 0.9371 - val_loss: 0.9139 - val_accuracy: 0.8110\n",
            "Epoch 10/20\n",
            "16/16 [==============================] - 1s 43ms/step - loss: 0.2355 - accuracy: 0.9461 - val_loss: 0.9010 - val_accuracy: 0.8170\n",
            "Epoch 11/20\n",
            "16/16 [==============================] - 1s 43ms/step - loss: 0.1940 - accuracy: 0.9519 - val_loss: 0.9176 - val_accuracy: 0.8190\n",
            "Epoch 12/20\n",
            "16/16 [==============================] - 1s 43ms/step - loss: 0.1750 - accuracy: 0.9540 - val_loss: 0.9383 - val_accuracy: 0.8080\n",
            "Epoch 13/20\n",
            "16/16 [==============================] - 1s 43ms/step - loss: 0.1603 - accuracy: 0.9586 - val_loss: 0.9349 - val_accuracy: 0.8190\n",
            "Epoch 14/20\n",
            "16/16 [==============================] - 1s 43ms/step - loss: 0.1458 - accuracy: 0.9577 - val_loss: 1.0071 - val_accuracy: 0.8010\n",
            "Epoch 15/20\n",
            "16/16 [==============================] - 1s 44ms/step - loss: 0.1408 - accuracy: 0.9584 - val_loss: 0.9851 - val_accuracy: 0.8080\n",
            "Epoch 16/20\n",
            "16/16 [==============================] - 1s 43ms/step - loss: 0.1240 - accuracy: 0.9590 - val_loss: 1.0485 - val_accuracy: 0.7940\n",
            "Epoch 17/20\n",
            "16/16 [==============================] - 1s 45ms/step - loss: 0.1180 - accuracy: 0.9604 - val_loss: 1.0967 - val_accuracy: 0.7950\n",
            "Epoch 18/20\n",
            "16/16 [==============================] - 1s 42ms/step - loss: 0.1180 - accuracy: 0.9596 - val_loss: 1.1112 - val_accuracy: 0.7950\n",
            "Epoch 19/20\n",
            "16/16 [==============================] - 1s 43ms/step - loss: 0.1059 - accuracy: 0.9633 - val_loss: 1.0628 - val_accuracy: 0.8020\n",
            "Epoch 20/20\n",
            "16/16 [==============================] - 1s 43ms/step - loss: 0.0961 - accuracy: 0.9627 - val_loss: 1.0673 - val_accuracy: 0.8070\n"
          ],
          "name": "stdout"
        }
      ]
    },
    {
      "cell_type": "code",
      "metadata": {
        "id": "6j4TLfkbNYwD"
      },
      "source": [
        "history_dict=history.history"
      ],
      "execution_count": 28,
      "outputs": []
    },
    {
      "cell_type": "code",
      "metadata": {
        "id": "li5kY4ASNwSY"
      },
      "source": [
        "from matplotlib import pyplot as plt"
      ],
      "execution_count": 31,
      "outputs": []
    },
    {
      "cell_type": "code",
      "metadata": {
        "id": "dIoC9rqtN0J0"
      },
      "source": [
        "epchs=range(1,len(history_dict['accuracy'])+1)"
      ],
      "execution_count": 38,
      "outputs": []
    },
    {
      "cell_type": "code",
      "metadata": {
        "colab": {
          "base_uri": "https://localhost:8080/",
          "height": 265
        },
        "id": "mWZMdzg2xt7_",
        "outputId": "0cf0ba70-d7c5-4938-f7e9-91c8c502c3b3"
      },
      "source": [
        "plt.plot(epchs,history_dict['loss'],'bo',label='training loss')\n",
        "plt.plot(epchs,history_dict['val_loss'],'b',label='validation loss')\n",
        "plt.show()"
      ],
      "execution_count": 40,
      "outputs": [
        {
          "output_type": "display_data",
          "data": {
            "image/png": "[encoded data removed]",
            "text/plain": [
              "<Figure size 432x288 with 1 Axes>"
            ]
          },
          "metadata": {
            "tags": [],
            "needs_background": "light"
          }
        }
      ]
    },
    {
      "cell_type": "code",
      "metadata": {
        "colab": {
          "base_uri": "https://localhost:8080/"
        },
        "id": "nNrdgopxxw1o",
        "outputId": "e6889def-9d80-4b6f-877e-56bac54a0613"
      },
      "source": [
        "result_set=model.evaluate(test_i,test_i_labels)"
      ],
      "execution_count": 63,
      "outputs": [
        {
          "output_type": "stream",
          "text": [
            "71/71 [==============================] - 0s 2ms/step - loss: 1.2414 - accuracy: 0.7925\n"
          ],
          "name": "stdout"
        }
      ]
    },
    {
      "cell_type": "code",
      "metadata": {
        "colab": {
          "base_uri": "https://localhost:8080/"
        },
        "id": "_rc_UttfzlmJ",
        "outputId": "766d4e35-4459-46ae-8d59-dd2cc6d36435"
      },
      "source": [
        "result_set"
      ],
      "execution_count": 43,
      "outputs": [
        {
          "output_type": "execute_result",
          "data": {
            "text/plain": [
              "[1.2414014339447021, 0.7925200462341309]"
            ]
          },
          "metadata": {
            "tags": []
          },
          "execution_count": 43
        }
      ]
    },
    {
      "cell_type": "markdown",
      "metadata": {
        "id": "vJPInBWi30by"
      },
      "source": [
        "The next part deals with a manual method for calculation instead of the evaluate method"
      ]
    },
    {
      "cell_type": "code",
      "metadata": {
        "id": "MGjl-3ibzurK"
      },
      "source": [
        "predictions=model.predict(test_i)"
      ],
      "execution_count": 44,
      "outputs": []
    },
    {
      "cell_type": "code",
      "metadata": {
        "id": "75-jE_xp0f-8"
      },
      "source": [
        "from sklearn.metrics import classification_report"
      ],
      "execution_count": 52,
      "outputs": []
    },
    {
      "cell_type": "code",
      "metadata": {
        "id": "6GvVA8V_080o"
      },
      "source": [
        "#funciton to convert the probabilites to categories(the one with the highest value gets a one(sum is 1 in each row))\n",
        "def result_to_one_hot(preds):\n",
        "  ret1=np.zeros((len(preds),len(preds[0])))\n",
        "  for i,pred in enumerate(preds):\n",
        "    ret1[i,np.argmax(pred)]=1\n",
        "  return ret1\n"
      ],
      "execution_count": 55,
      "outputs": []
    },
    {
      "cell_type": "code",
      "metadata": {
        "id": "IltkHTqt2bPO"
      },
      "source": [
        "pred_func=result_to_one_hot(predictions)"
      ],
      "execution_count": 56,
      "outputs": []
    },
    {
      "cell_type": "code",
      "metadata": {
        "colab": {
          "base_uri": "https://localhost:8080/"
        },
        "id": "QmZ_Hbq32qRL",
        "outputId": "50ee8998-c2f9-4ffa-8eaf-c070879b1aba"
      },
      "source": [
        "test_i_labels"
      ],
      "execution_count": 58,
      "outputs": [
        {
          "output_type": "execute_result",
          "data": {
            "text/plain": [
              "array([[0., 0., 0., ..., 0., 0., 0.],\n",
              "       [0., 0., 0., ..., 0., 0., 0.],\n",
              "       [0., 1., 0., ..., 0., 0., 0.],\n",
              "       ...,\n",
              "       [0., 0., 0., ..., 0., 0., 0.],\n",
              "       [0., 0., 0., ..., 0., 0., 0.],\n",
              "       [0., 0., 0., ..., 0., 0., 0.]], dtype=float32)"
            ]
          },
          "metadata": {
            "tags": []
          },
          "execution_count": 58
        }
      ]
    },
    {
      "cell_type": "code",
      "metadata": {
        "colab": {
          "base_uri": "https://localhost:8080/",
          "height": 247
        },
        "id": "Wr5ZUeru29SV",
        "outputId": "c1749cb3-0a62-48a2-e57e-4fb504de1606"
      },
      "source": [
        "classification_report(pred_func,test_i_labels)"
      ],
      "execution_count": 61,
      "outputs": [
        {
          "output_type": "stream",
          "text": [
            "/usr/local/lib/python3.7/dist-packages/sklearn/metrics/_classification.py:1272: UndefinedMetricWarning: Recall and F-score are ill-defined and being set to 0.0 in labels with no true samples. Use `zero_division` parameter to control this behavior.\n",
            "  _warn_prf(average, modifier, msg_start, len(result))\n"
          ],
          "name": "stderr"
        },
        {
          "output_type": "execute_result",
          "data": {
            "application/vnd.google.colaboratory.intrinsic+json": {
              "type": "string"
            },
            "text/plain": [
              "'              precision    recall  f1-score   support\\n\\n           0       0.75      0.90      0.82        10\\n           1       0.80      0.70      0.75       120\\n           2       0.50      0.77      0.61        13\\n           3       0.94      0.89      0.91       866\\n           4       0.85      0.85      0.85       476\\n           5       0.20      0.50      0.29         2\\n           6       0.86      0.92      0.89        13\\n           7       0.33      1.00      0.50         1\\n           8       0.68      0.72      0.70        36\\n           9       0.80      0.83      0.82        24\\n          10       0.80      0.96      0.87        25\\n          11       0.77      0.53      0.63       121\\n          12       0.15      0.50      0.24         4\\n          13       0.57      0.55      0.56        38\\n          14       0.50      1.00      0.67         1\\n          15       0.11      0.50      0.18         2\\n          16       0.78      0.61      0.68       127\\n          17       0.17      1.00      0.29         2\\n          18       0.60      0.75      0.67        16\\n          19       0.71      0.64      0.67       148\\n          20       0.49      0.67      0.56        51\\n          21       0.63      0.74      0.68        23\\n          22       0.00      0.00      0.00         0\\n          23       0.50      0.67      0.57         9\\n          24       0.37      0.50      0.42        14\\n          25       0.65      0.80      0.71        25\\n          26       0.88      1.00      0.93         7\\n          27       0.50      1.00      0.67         2\\n          28       0.20      0.40      0.27         5\\n          29       0.50      0.40      0.44         5\\n          30       0.50      1.00      0.67         6\\n          31       0.54      0.88      0.67         8\\n          32       0.80      1.00      0.89         8\\n          33       0.80      1.00      0.89         4\\n          34       0.71      0.83      0.77         6\\n          35       0.50      1.00      0.67         3\\n          36       0.27      0.60      0.37         5\\n          37       0.00      0.00      0.00         4\\n          38       0.33      1.00      0.50         1\\n          39       0.00      0.00      0.00         0\\n          40       0.20      1.00      0.33         2\\n          41       0.12      0.50      0.20         2\\n          42       0.33      1.00      0.50         1\\n          43       0.83      0.83      0.83         6\\n          44       0.80      1.00      0.89         4\\n          45       0.00      0.00      0.00         0\\n\\n   micro avg       0.79      0.79      0.79      2246\\n   macro avg       0.51      0.72      0.57      2246\\nweighted avg       0.82      0.79      0.80      2246\\n samples avg       0.79      0.79      0.79      2246\\n'"
            ]
          },
          "metadata": {
            "tags": []
          },
          "execution_count": 61
        }
      ]
    },
    {
      "cell_type": "code",
      "metadata": {
        "colab": {
          "base_uri": "https://localhost:8080/"
        },
        "id": "2oOuPnwcz97I",
        "outputId": "8f8a8961-6f2c-4e3f-ab36-ec9b6a7ae891"
      },
      "source": [
        "predictions"
      ],
      "execution_count": 45,
      "outputs": [
        {
          "output_type": "execute_result",
          "data": {
            "text/plain": [
              "array([[2.5097361e-07, 1.3373324e-06, 7.4873308e-09, ..., 3.6908169e-08,\n",
              "        1.1896118e-11, 2.8829396e-07],\n",
              "       [3.6140926e-02, 1.0089618e-02, 6.3920284e-05, ..., 1.1212530e-08,\n",
              "        3.5708592e-08, 1.0535433e-05],\n",
              "       [1.9102257e-02, 8.8619882e-01, 1.2466837e-04, ..., 1.5303709e-05,\n",
              "        7.2144358e-06, 2.4300864e-05],\n",
              "       ...,\n",
              "       [9.2708041e-07, 5.9811759e-06, 9.4996921e-07, ..., 5.9870911e-07,\n",
              "        3.5463156e-08, 6.2448203e-07],\n",
              "       [1.5145570e-02, 6.9499135e-02, 8.7176515e-03, ..., 4.6272879e-04,\n",
              "        3.1514082e-05, 3.5285720e-04],\n",
              "       [1.5906240e-04, 8.3873975e-01, 5.4801218e-05, ..., 2.6759849e-06,\n",
              "        1.9086075e-07, 2.5189138e-06]], dtype=float32)"
            ]
          },
          "metadata": {
            "tags": []
          },
          "execution_count": 45
        }
      ]
    },
    {
      "cell_type": "code",
      "metadata": {
        "colab": {
          "base_uri": "https://localhost:8080/"
        },
        "id": "XKAUsPKK0ABy",
        "outputId": "46afa158-667f-4a56-e8aa-b0bed8a460d6"
      },
      "source": [
        "predictions[2]"
      ],
      "execution_count": 48,
      "outputs": [
        {
          "output_type": "execute_result",
          "data": {
            "text/plain": [
              "array([1.9102257e-02, 8.8619882e-01, 1.2466837e-04, 1.6881389e-04,\n",
              "       6.5551794e-05, 3.8094565e-04, 3.6197343e-05, 4.3657998e-05,\n",
              "       7.3977589e-04, 7.7691127e-04, 3.3648306e-05, 5.0900795e-02,\n",
              "       2.8093789e-05, 3.0036722e-03, 2.0067478e-03, 3.7692173e-03,\n",
              "       8.4104054e-03, 1.6948777e-03, 5.2524544e-03, 1.0461639e-04,\n",
              "       8.6448406e-04, 4.1398293e-04, 1.2929153e-03, 3.0745490e-05,\n",
              "       2.3027693e-03, 1.7214941e-05, 6.2715291e-05, 7.7666971e-04,\n",
              "       7.9715345e-03, 7.3166259e-05, 5.3836011e-06, 4.0884646e-05,\n",
              "       4.3609561e-04, 5.6142941e-05, 9.2123286e-05, 8.0644422e-06,\n",
              "       1.3725950e-03, 1.1761832e-04, 2.1091282e-05, 8.6819739e-07,\n",
              "       5.6196051e-04, 4.6199083e-04, 1.3020726e-04, 1.5303709e-05,\n",
              "       7.2144358e-06, 2.4300864e-05], dtype=float32)"
            ]
          },
          "metadata": {
            "tags": []
          },
          "execution_count": 48
        }
      ]
    },
    {
      "cell_type": "code",
      "metadata": {
        "colab": {
          "base_uri": "https://localhost:8080/"
        },
        "id": "iBZph3j00HSs",
        "outputId": "e3a7faeb-3fcf-4e6d-eefd-14815f3d2595"
      },
      "source": [
        "np.argmax(predictions[2])"
      ],
      "execution_count": 49,
      "outputs": [
        {
          "output_type": "execute_result",
          "data": {
            "text/plain": [
              "1"
            ]
          },
          "metadata": {
            "tags": []
          },
          "execution_count": 49
        }
      ]
    },
    {
      "cell_type": "code",
      "metadata": {
        "colab": {
          "base_uri": "https://localhost:8080/"
        },
        "id": "ld8CHmWQ0XJ6",
        "outputId": "e7fa884b-95d2-46ad-d955-1483cd8d7a77"
      },
      "source": [
        "np.sum(predictions[2])"
      ],
      "execution_count": 50,
      "outputs": [
        {
          "output_type": "execute_result",
          "data": {
            "text/plain": [
              "1.0000001"
            ]
          },
          "metadata": {
            "tags": []
          },
          "execution_count": 50
        }
      ]
    },
    {
      "cell_type": "code",
      "metadata": {
        "colab": {
          "base_uri": "https://localhost:8080/"
        },
        "id": "EmmKBzRg0asf",
        "outputId": "2dbcb8b0-e614-410b-8aa4-333667bb7e4c"
      },
      "source": [
        "len(predictions)"
      ],
      "execution_count": 59,
      "outputs": [
        {
          "output_type": "execute_result",
          "data": {
            "text/plain": [
              "2246"
            ]
          },
          "metadata": {
            "tags": []
          },
          "execution_count": 59
        }
      ]
    },
    {
      "cell_type": "code",
      "metadata": {
        "colab": {
          "base_uri": "https://localhost:8080/"
        },
        "id": "VVzW-OH62zZI",
        "outputId": "15f3e463-ebb7-4f0b-dd15-31c9c11b9ac3"
      },
      "source": [
        "np.argmax(predictions[2245])"
      ],
      "execution_count": 60,
      "outputs": [
        {
          "output_type": "execute_result",
          "data": {
            "text/plain": [
              "1"
            ]
          },
          "metadata": {
            "tags": []
          },
          "execution_count": 60
        }
      ]
    },
    {
      "cell_type": "code",
      "metadata": {
        "id": "wkSSSStk25PG"
      },
      "source": [
        ""
      ],
      "execution_count": null,
      "outputs": []
    }
  ]
}