{
  "nbformat": 4,
  "nbformat_minor": 0,
  "metadata": {
    "colab": {
      "name": "MNIST_no_cnn.ipynb",
      "provenance": []
    },
    "kernelspec": {
      "name": "python3",
      "display_name": "Python 3"
    },
    "language_info": {
      "name": "python"
    }
  },
  "cells": [
    {
      "cell_type": "code",
      "metadata": {
        "id": "_edjWFaqmzmB"
      },
      "source": [
        "from keras.datasets import mnist\n",
        "(train_data,train_labels),(test_data,test_labels)=mnist.load_data()\n",
        "from keras.utils import to_categorical\n",
        "train_data=train_data.astype('float32')/255\n",
        "test_data=test_data.astype('float32')/255\n",
        "train_labels=to_categorical(train_labels)\n",
        "test_labels=to_categorical(test_labels)\n",
        "from keras import models\n",
        "model=models.Sequential()\n",
        "from keras import layers\n"
      ],
      "execution_count": null,
      "outputs": []
    },
    {
      "cell_type": "code",
      "metadata": {
        "id": "fogSGTTkxSun"
      },
      "source": [
        "train_data=train_data.reshape(len(train_data),-1)"
      ],
      "execution_count": null,
      "outputs": []
    },
    {
      "cell_type": "code",
      "metadata": {
        "id": "C2pBpdlPvTm7"
      },
      "source": [
        "test_data=test_data.reshape(len(test_data),-1)"
      ],
      "execution_count": null,
      "outputs": []
    },
    {
      "cell_type": "code",
      "metadata": {
        "id": "Ot_lvY1-nb9W"
      },
      "source": [
        "model.add(layers.Dense(64,activation='relu',input_shape=train_data[0].shape))\n",
        "model.add(layers.Dense(64,activation='relu'))\n",
        "model.add(layers.Dense(64,activation='relu'))\n",
        "model.add(layers.Dense(10,activation='softmax'))"
      ],
      "execution_count": null,
      "outputs": []
    },
    {
      "cell_type": "code",
      "metadata": {
        "id": "1VO1JljWv9yN"
      },
      "source": [
        "model.compile(optimizer='rmsprop',loss='categorical_crossentropy',metrics=['accuracy'])"
      ],
      "execution_count": null,
      "outputs": []
    },
    {
      "cell_type": "code",
      "metadata": {
        "colab": {
          "base_uri": "https://localhost:8080/"
        },
        "id": "nSZ0dJ6rwdcF",
        "outputId": "ea1ce062-0ff4-432d-dc60-56f8a82bfa57"
      },
      "source": [
        "history=model.fit(train_data,train_labels,epochs=5,batch_size=64,validation_split=0.25)"
      ],
      "execution_count": null,
      "outputs": [
        {
          "output_type": "stream",
          "text": [
            "Epoch 1/5\n",
            "704/704 [==============================] - 2s 3ms/step - loss: 0.5805 - accuracy: 0.8322 - val_loss: 0.2137 - val_accuracy: 0.9315\n",
            "Epoch 2/5\n",
            "704/704 [==============================] - 2s 2ms/step - loss: 0.1665 - accuracy: 0.9493 - val_loss: 0.1521 - val_accuracy: 0.9525\n",
            "Epoch 3/5\n",
            "704/704 [==============================] - 2s 2ms/step - loss: 0.1182 - accuracy: 0.9649 - val_loss: 0.1375 - val_accuracy: 0.9584\n",
            "Epoch 4/5\n",
            "704/704 [==============================] - 2s 2ms/step - loss: 0.0936 - accuracy: 0.9715 - val_loss: 0.1297 - val_accuracy: 0.9625\n",
            "Epoch 5/5\n",
            "704/704 [==============================] - 2s 2ms/step - loss: 0.0750 - accuracy: 0.9773 - val_loss: 0.1160 - val_accuracy: 0.9681\n"
          ],
          "name": "stdout"
        }
      ]
    },
    {
      "cell_type": "code",
      "metadata": {
        "colab": {
          "base_uri": "https://localhost:8080/"
        },
        "id": "UrsqZUQfw41h",
        "outputId": "ad0c8f4d-791e-4939-bfd4-042681fdecff"
      },
      "source": [
        "model.summary()"
      ],
      "execution_count": null,
      "outputs": [
        {
          "output_type": "stream",
          "text": [
            "Model: \"sequential_15\"\n",
            "_________________________________________________________________\n",
            "Layer (type)                 Output Shape              Param #   \n",
            "=================================================================\n",
            "dense_41 (Dense)             (None, 64)                50240     \n",
            "_________________________________________________________________\n",
            "dense_42 (Dense)             (None, 64)                4160      \n",
            "_________________________________________________________________\n",
            "dense_43 (Dense)             (None, 64)                4160      \n",
            "_________________________________________________________________\n",
            "dense_44 (Dense)             (None, 10)                650       \n",
            "=================================================================\n",
            "Total params: 59,210\n",
            "Trainable params: 59,210\n",
            "Non-trainable params: 0\n",
            "_________________________________________________________________\n"
          ],
          "name": "stdout"
        }
      ]
    },
    {
      "cell_type": "code",
      "metadata": {
        "id": "d5DVwDCYxLIF"
      },
      "source": [
        "history_dict=history.history"
      ],
      "execution_count": null,
      "outputs": []
    },
    {
      "cell_type": "code",
      "metadata": {
        "id": "tNcaZHwFqxeR"
      },
      "source": [
        "from matplotlib import pyplot as plt\n"
      ],
      "execution_count": null,
      "outputs": []
    },
    {
      "cell_type": "code",
      "metadata": {
        "colab": {
          "base_uri": "https://localhost:8080/",
          "height": 267
        },
        "id": "a2wNE1Qnq1bw",
        "outputId": "0aeeeec1-8395-4000-d316-2ce97a0d0e8a"
      },
      "source": [
        "epchs=range(0,5)\n",
        "plt.plot(epchs,history_dict['accuracy'],'b')\n",
        "plt.plot(epchs,history_dict['val_accuracy'],'bo')\n",
        "plt.show()"
      ],
      "execution_count": null,
      "outputs": [
        {
          "output_type": "display_data",
          "data": {
            "image/png": "[encoded data removed]",
            "text/plain": [
              "<Figure size 432x288 with 1 Axes>"
            ]
          },
          "metadata": {
            "tags": [],
            "needs_background": "light"
          }
        }
      ]
    },
    {
      "cell_type": "code",
      "metadata": {
        "colab": {
          "base_uri": "https://localhost:8080/"
        },
        "id": "Am-BGxPErcyH",
        "outputId": "86bd2fa2-9160-4bf8-dd5e-615fdc7fab09"
      },
      "source": [
        "model.evaluate(test_data,test_labels)"
      ],
      "execution_count": null,
      "outputs": [
        {
          "output_type": "stream",
          "text": [
            "313/313 [==============================] - 0s 1ms/step - loss: 0.1005 - accuracy: 0.9719\n"
          ],
          "name": "stdout"
        },
        {
          "output_type": "execute_result",
          "data": {
            "text/plain": [
              "[0.10048940777778625, 0.9718999862670898]"
            ]
          },
          "metadata": {
            "tags": []
          },
          "execution_count": 90
        }
      ]
    },
    {
      "cell_type": "code",
      "metadata": {
        "id": "Gmme-hDlvs_3"
      },
      "source": [
        ""
      ],
      "execution_count": null,
      "outputs": []
    }
  ]
}