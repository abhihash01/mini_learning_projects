{
  "nbformat": 4,
  "nbformat_minor": 0,
  "metadata": {
    "colab": {
      "name": "1D_CNN_imdb.ipynb",
      "provenance": []
    },
    "kernelspec": {
      "name": "python3",
      "display_name": "Python 3"
    },
    "language_info": {
      "name": "python"
    }
  },
  "cells": [
    {
      "cell_type": "code",
      "metadata": {
        "colab": {
          "base_uri": "https://localhost:8080/"
        },
        "id": "eXzpSa9ZWy-K",
        "outputId": "b918dd06-b557-437a-cc2e-02361f8ff577"
      },
      "source": [
        "from keras.datasets import imdb\n",
        "from keras.preprocessing import sequence\n",
        "max_features = 10000\n",
        "max_len = 500\n",
        "(x_train, y_train), (x_test, y_test) = imdb.load_data(num_words=max_features)\n",
        "\n",
        "x_train = sequence.pad_sequences(x_train, maxlen=max_len)\n",
        "x_test = sequence.pad_sequences(x_test, maxlen=max_len)"
      ],
      "execution_count": 2,
      "outputs": [
        {
          "output_type": "stream",
          "text": [
            "<string>:6: VisibleDeprecationWarning: Creating an ndarray from ragged nested sequences (which is a list-or-tuple of lists-or-tuples-or ndarrays with different lengths or shapes) is deprecated. If you meant to do this, you must specify 'dtype=object' when creating the ndarray\n",
            "/usr/local/lib/python3.7/dist-packages/keras/datasets/imdb.py:155: VisibleDeprecationWarning: Creating an ndarray from ragged nested sequences (which is a list-or-tuple of lists-or-tuples-or ndarrays with different lengths or shapes) is deprecated. If you meant to do this, you must specify 'dtype=object' when creating the ndarray\n",
            "  x_train, y_train = np.array(xs[:idx]), np.array(labels[:idx])\n",
            "/usr/local/lib/python3.7/dist-packages/keras/datasets/imdb.py:156: VisibleDeprecationWarning: Creating an ndarray from ragged nested sequences (which is a list-or-tuple of lists-or-tuples-or ndarrays with different lengths or shapes) is deprecated. If you meant to do this, you must specify 'dtype=object' when creating the ndarray\n",
            "  x_test, y_test = np.array(xs[idx:]), np.array(labels[idx:])\n"
          ],
          "name": "stderr"
        }
      ]
    },
    {
      "cell_type": "code",
      "metadata": {
        "colab": {
          "base_uri": "https://localhost:8080/"
        },
        "id": "NPcnIo5kW83K",
        "outputId": "473e3fbd-310f-458e-ac96-5ce412787a17"
      },
      "source": [
        "from keras.models import Sequential\n",
        "from keras import layers\n",
        "from keras.optimizers import RMSprop\n",
        "model = Sequential()\n",
        "model.add(layers.Embedding(max_features, 128, input_length=max_len))\n",
        "model.add(layers.Conv1D(32, 7, activation='relu'))\n",
        "model.add(layers.MaxPooling1D(5))\n",
        "model.add(layers.Conv1D(32, 7, activation='relu'))\n",
        "model.add(layers.GlobalMaxPooling1D())\n",
        "model.add(layers.Dense(1))\n",
        "model.summary()\n",
        "model.compile(optimizer=RMSprop(lr=1e-4),\n",
        "loss='binary_crossentropy',\n",
        "metrics=['acc'])\n",
        "history = model.fit(x_train, y_train,\n",
        "epochs=10,\n",
        "batch_size=128,\n",
        "validation_split=0.2)"
      ],
      "execution_count": 3,
      "outputs": [
        {
          "output_type": "stream",
          "text": [
            "Model: \"sequential\"\n",
            "_________________________________________________________________\n",
            "Layer (type)                 Output Shape              Param #   \n",
            "=================================================================\n",
            "embedding (Embedding)        (None, 500, 128)          1280000   \n",
            "_________________________________________________________________\n",
            "conv1d (Conv1D)              (None, 494, 32)           28704     \n",
            "_________________________________________________________________\n",
            "max_pooling1d (MaxPooling1D) (None, 98, 32)            0         \n",
            "_________________________________________________________________\n",
            "conv1d_1 (Conv1D)            (None, 92, 32)            7200      \n",
            "_________________________________________________________________\n",
            "global_max_pooling1d (Global (None, 32)                0         \n",
            "_________________________________________________________________\n",
            "dense (Dense)                (None, 1)                 33        \n",
            "=================================================================\n",
            "Total params: 1,315,937\n",
            "Trainable params: 1,315,937\n",
            "Non-trainable params: 0\n",
            "_________________________________________________________________\n"
          ],
          "name": "stdout"
        },
        {
          "output_type": "stream",
          "text": [
            "/usr/local/lib/python3.7/dist-packages/tensorflow/python/keras/optimizer_v2/optimizer_v2.py:375: UserWarning: The `lr` argument is deprecated, use `learning_rate` instead.\n",
            "  \"The `lr` argument is deprecated, use `learning_rate` instead.\")\n"
          ],
          "name": "stderr"
        },
        {
          "output_type": "stream",
          "text": [
            "Epoch 1/10\n",
            "157/157 [==============================] - 85s 445ms/step - loss: 1.0740 - acc: 0.5025 - val_loss: 0.6894 - val_acc: 0.5368\n",
            "Epoch 2/10\n",
            "157/157 [==============================] - 69s 442ms/step - loss: 0.6790 - acc: 0.6062 - val_loss: 0.6774 - val_acc: 0.5368\n",
            "Epoch 3/10\n",
            "157/157 [==============================] - 70s 443ms/step - loss: 0.6471 - acc: 0.7150 - val_loss: 0.6349 - val_acc: 0.6874\n",
            "Epoch 4/10\n",
            "157/157 [==============================] - 70s 444ms/step - loss: 0.5861 - acc: 0.7959 - val_loss: 0.5369 - val_acc: 0.7864\n",
            "Epoch 5/10\n",
            "157/157 [==============================] - 72s 456ms/step - loss: 0.4714 - acc: 0.8325 - val_loss: 0.4314 - val_acc: 0.8276\n",
            "Epoch 6/10\n",
            "157/157 [==============================] - 70s 447ms/step - loss: 0.3605 - acc: 0.8672 - val_loss: 0.4046 - val_acc: 0.8466\n",
            "Epoch 7/10\n",
            "157/157 [==============================] - 70s 444ms/step - loss: 0.3079 - acc: 0.8899 - val_loss: 0.4081 - val_acc: 0.8572\n",
            "Epoch 8/10\n",
            "157/157 [==============================] - 70s 449ms/step - loss: 0.2865 - acc: 0.9029 - val_loss: 0.4280 - val_acc: 0.8622\n",
            "Epoch 9/10\n",
            "157/157 [==============================] - 70s 447ms/step - loss: 0.2517 - acc: 0.9177 - val_loss: 0.4393 - val_acc: 0.8664\n",
            "Epoch 10/10\n",
            "157/157 [==============================] - 71s 451ms/step - loss: 0.2292 - acc: 0.9243 - val_loss: 0.4397 - val_acc: 0.8698\n"
          ],
          "name": "stdout"
        }
      ]
    },
    {
      "cell_type": "code",
      "metadata": {
        "id": "pOILkh5BXTvp"
      },
      "source": [
        "history_dict=history.history"
      ],
      "execution_count": 4,
      "outputs": []
    },
    {
      "cell_type": "code",
      "metadata": {
        "id": "CbuJ1QukaKkk"
      },
      "source": [
        "from matplotlib import pyplot as plt\n"
      ],
      "execution_count": 5,
      "outputs": []
    },
    {
      "cell_type": "code",
      "metadata": {
        "id": "d_buJnM3aMzg"
      },
      "source": [
        "epchs=range(0,10)"
      ],
      "execution_count": 6,
      "outputs": []
    },
    {
      "cell_type": "code",
      "metadata": {
        "colab": {
          "base_uri": "https://localhost:8080/",
          "height": 265
        },
        "id": "XIO6F-KCaSF3",
        "outputId": "d8697ccf-fbca-4cd9-b837-1554ba61f474"
      },
      "source": [
        "plt.plot(epchs,history_dict['loss'],'b',label=\"training loss\" )\n",
        "plt.plot(epchs,history_dict['val_loss'],'bo',label=\"training loss\" )\n",
        "plt.legend()\n",
        "plt.show()"
      ],
      "execution_count": 8,
      "outputs": [
        {
          "output_type": "display_data",
          "data": {
            "image/png": "[encoded data removed]",
            "text/plain": [
              "<Figure size 432x288 with 1 Axes>"
            ]
          },
          "metadata": {
            "tags": [],
            "needs_background": "light"
          }
        }
      ]
    },
    {
      "cell_type": "code",
      "metadata": {
        "colab": {
          "base_uri": "https://localhost:8080/",
          "height": 265
        },
        "id": "VXhcvXj2aiXA",
        "outputId": "9a1c35b4-b507-4c87-a023-a092dbd35bee"
      },
      "source": [
        "plt.plot(epchs,history_dict['acc'],'b',label=\"training accuracy\" )\n",
        "plt.plot(epchs,history_dict['val_acc'],'bo',label=\"training accuracy\" )\n",
        "plt.legend()\n",
        "plt.show()"
      ],
      "execution_count": 13,
      "outputs": [
        {
          "output_type": "display_data",
          "data": {
            "image/png": "[encoded data removed]",
            "text/plain": [
              "<Figure size 432x288 with 1 Axes>"
            ]
          },
          "metadata": {
            "tags": [],
            "needs_background": "light"
          }
        }
      ]
    },
    {
      "cell_type": "code",
      "metadata": {
        "colab": {
          "base_uri": "https://localhost:8080/"
        },
        "id": "UFbD2ORfazLd",
        "outputId": "59a2e676-a8ac-40d3-ea0e-7e9c72472b23"
      },
      "source": [
        "history_dict.keys()"
      ],
      "execution_count": 12,
      "outputs": [
        {
          "output_type": "execute_result",
          "data": {
            "text/plain": [
              "dict_keys(['loss', 'acc', 'val_loss', 'val_acc'])"
            ]
          },
          "metadata": {
            "tags": []
          },
          "execution_count": 12
        }
      ]
    },
    {
      "cell_type": "code",
      "metadata": {
        "colab": {
          "base_uri": "https://localhost:8080/"
        },
        "id": "FuIP8lDha5u1",
        "outputId": "74ec55b3-2c6c-4993-81ee-9eae95ad8d60"
      },
      "source": [
        "model.evaluate(x_test,y_test)"
      ],
      "execution_count": 15,
      "outputs": [
        {
          "output_type": "stream",
          "text": [
            "782/782 [==============================] - 21s 27ms/step - loss: 0.4496 - acc: 0.8626\n"
          ],
          "name": "stdout"
        },
        {
          "output_type": "execute_result",
          "data": {
            "text/plain": [
              "[0.449644535779953, 0.8626000285148621]"
            ]
          },
          "metadata": {
            "tags": []
          },
          "execution_count": 15
        }
      ]
    },
    {
      "cell_type": "code",
      "metadata": {
        "id": "sfEM3C2pbEiK"
      },
      "source": [
        ""
      ],
      "execution_count": null,
      "outputs": []
    }
  ]
}